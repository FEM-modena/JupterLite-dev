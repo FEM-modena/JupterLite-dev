{
  "metadata": {
    "kernelspec": {
      "name": "python",
      "display_name": "Python (Pyodide)",
      "language": "python"
    },
    "language_info": {
      "codemirror_mode": {
        "name": "python",
        "version": 3
      },
      "file_extension": ".py",
      "mimetype": "text/x-python",
      "name": "python",
      "nbconvert_exporter": "python",
      "pygments_lexer": "ipython3",
      "version": "3.8"
    }
  },
  "nbformat_minor": 4,
  "nbformat": 4,
  "cells": [
    {
      "cell_type": "markdown",
      "source": "# Attività di progetto 3",
      "metadata": {}
    },
    {
      "cell_type": "markdown",
      "source": "## Inserimento delle misure ambientali\n\nNelle scorse attività abbiamo visto due modi per alimentare la nostra **base di dati ambientale**:\n- Scrivendo i dati direttamente nello script Python (Day #2), rappresentando i dati come **liste di liste**\n- Scaricando direttamente in formato CSV i dati ambientali, utilizzando un servizio di **Open Data** (ARPA-E)\n\nMa se volessimo avere un sistema che permette di inserire tutti i dati che vogliamo senza andare ogni volta a modificare il programma?\\\nServe un modo per **inserire i dati da tastiera**\n\n### Creazione file CSV da tastiera\n\nCiacun gruppo ha ricevuto la nota delle misure di **particolato PM10** raccolte dal team di misurazione sul campo.\\\nLe misure di particolato hanno una forte variabilità, per cui vengono raccolte medie orarie.\n\nServe ora preparare un programma che inserisca questi valori in un file CSV.\\\nOgni riga corrisponde ad una misurazione e contiene tre dati:\n- l'orario, scritto in modo testuale\n- il codice identificativo della misura \"Particolato PM10\",\n- il valore misurato.\n  \nUna parte del programma è già stata inziata nella cella Python che vedete sotto **INSERIMENTO DA TASTIERA**: tocca a voi ora completarlo!\n\nQuello serve è:\n- **dare un nome** al file CSV da creare (variabile `nome_file`) che abbia estensione .csv\n- **inserire i dati** di ciascuna riga da tastiera\n- **separare i valori** della riga nei suoi dati in modo da creare la sequenza di dati rappresentativa di ciascuna riga\n- **concatenare la sequenza** di dati nella **lista di liste** che rappresenta il file\n\n## INSERIMENTO DA TASTIERA",
      "metadata": {}
    },
    {
      "cell_type": "code",
      "source": "import csv\nmisure_pm10 = []\n# scegliamo un nome per il file CSV da creare nella variabile nome_file\n",
      "metadata": {
        "trusted": true,
        "scrolled": true
      },
      "outputs": [],
      "execution_count": null
    },
    {
      "cell_type": "code",
      "source": "# richiedere l'inserimento della (prima) riga di dati\n",
      "metadata": {
        "trusted": true
      },
      "outputs": [],
      "execution_count": 1
    },
    {
      "cell_type": "code",
      "source": "# dividiamo (split) dei campi\n\n# aggiungiamo (.append()) la sequenza di dati a \"misure_pm10\"\n",
      "metadata": {
        "trusted": true
      },
      "outputs": [],
      "execution_count": 2
    },
    {
      "cell_type": "markdown",
      "source": "Ora ripetiamo gli ultimi 3 passi per le 5 righe di misurazioni del vostro foglio-misure, aggiungendo ogni volta 2 celle di codice",
      "metadata": {}
    },
    {
      "cell_type": "code",
      "source": "",
      "metadata": {
        "trusted": true
      },
      "outputs": [],
      "execution_count": null
    },
    {
      "cell_type": "code",
      "source": "",
      "metadata": {
        "trusted": true
      },
      "outputs": [],
      "execution_count": null
    },
    {
      "cell_type": "markdown",
      "source": "Eseguire la cella finale che si occupa di scrivere i dati nel file:",
      "metadata": {}
    },
    {
      "cell_type": "code",
      "source": "with open(nome_file, 'w') as f:\n    writer = csv.writer(f)\n    writer.writerow([\"ORA\", \"CODICE PARAMETRO\", \"misura\"])\n    writer.writerows(misure_pm10)",
      "metadata": {
        "trusted": true
      },
      "outputs": [],
      "execution_count": null
    }
  ]
}
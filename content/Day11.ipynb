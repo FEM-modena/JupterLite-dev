{
  "metadata": {
    "kernelspec": {
      "name": "python",
      "display_name": "Python (Pyodide)",
      "language": "python"
    },
    "language_info": {
      "codemirror_mode": {
        "name": "python",
        "version": 3
      },
      "file_extension": ".py",
      "mimetype": "text/x-python",
      "name": "python",
      "nbconvert_exporter": "python",
      "pygments_lexer": "ipython3",
      "version": "3.8"
    }
  },
  "nbformat_minor": 5,
  "nbformat": 4,
  "cells": [
    {
      "id": "2bc36778-6a55-4b26-94cc-54fce26c3de2",
      "cell_type": "markdown",
      "source": "# Day 11 - Dati un po' più ricchi",
      "metadata": {}
    },
    {
      "id": "b3e30f4c-1b4a-4c6b-b33a-54cbc68b588a",
      "cell_type": "markdown",
      "source": "## Non solo liste",
      "metadata": {}
    },
    {
      "id": "724e7008-9055-4d1f-82bd-5bef6c89d14f",
      "cell_type": "markdown",
      "source": "In molti casi accedere ai dati rappresentandoli come delle sequenze accessibili con un indice numerico risulta poco intuitivo o addirittura scomodo.\\\nAvviene per esempio per dati che non hanno necessariamente un ordine sequenziale o gruppi di valori a cui appare logico assegnare un nome più che una posizione in una sequenza.\nIn questa circostanza, Python ci aiuta con tipi di dato più adatti.\n\n### Set (insiemi)\nI set sono collezioni non ordinate di valori",
      "metadata": {}
    },
    {
      "id": "9b533750-0d5a-49f8-981c-85f374adac38",
      "cell_type": "code",
      "source": "citta = {'Roma', 'Modena', 'Milano' }\nprint(citta)",
      "metadata": {
        "trusted": true
      },
      "outputs": [],
      "execution_count": null
    },
    {
      "id": "24a4503a-6b11-457d-a8bf-32cf7c67fb51",
      "cell_type": "markdown",
      "source": "Come le liste, gli insiemi sono eterogenei, cioè ammettono elementi di diverso tipo",
      "metadata": {}
    },
    {
      "id": "2bf82167-2e07-451c-83c2-fb221435a4d0",
      "cell_type": "code",
      "source": "citta.add(55)\nprint(citta)",
      "metadata": {
        "trusted": true
      },
      "outputs": [],
      "execution_count": null
    },
    {
      "id": "dcf3bffb-9696-4c82-87fe-c23bf214c633",
      "cell_type": "markdown",
      "source": "Inserimento e rimozione",
      "metadata": {}
    },
    {
      "id": "e37dd009-74eb-4a3f-9777-abbb4c36a76f",
      "cell_type": "code",
      "source": "citta.add('Palermo')\nprint(citta)\ncitta.remove('Milano')\nprint(citta)",
      "metadata": {
        "trusted": true,
        "scrolled": true
      },
      "outputs": [],
      "execution_count": null
    },
    {
      "id": "6fc5ce55-6460-4890-bf80-0ed1eae806df",
      "cell_type": "markdown",
      "source": "Test di appartenenza",
      "metadata": {}
    },
    {
      "id": "9fad97bd-55e9-4123-9ac4-ea0e502e3bdc",
      "cell_type": "code",
      "source": "comune = 'Sassuolo'\nif comune in citta:\n    print(\"Trovato\")\nelse:\n    print(\"Non trovato\")",
      "metadata": {
        "trusted": true
      },
      "outputs": [],
      "execution_count": null
    },
    {
      "id": "d1495a2d-eed6-41bd-a6c6-b969a54b37b7",
      "cell_type": "markdown",
      "source": "E' importante comprendere come negli insiemi in Python **conta solo il valore** e **sono i valori a definire il set**.",
      "metadata": {}
    },
    {
      "id": "68802f63-6562-466b-864f-f0ca5c274874",
      "cell_type": "code",
      "source": "citta = {'Roma', 'Modena', 'Milano' }\ncitta.add('Genova')\nprint(citta)\n#Continuate l'esempio da qui",
      "metadata": {
        "trusted": true
      },
      "outputs": [],
      "execution_count": null
    },
    {
      "id": "eb424cfe-821c-4f53-bc4d-1bc29086d6b1",
      "cell_type": "markdown",
      "source": "Quindi, in un set **un certo valore può apparire solo una volta**! \n\nGli insiemi di Python supportano le operazioni insiemistche",
      "metadata": {}
    },
    {
      "id": "05123898-a541-4305-9d98-f2d6f235263e",
      "cell_type": "code",
      "source": "altre_citta = {'Venezia', 'Napoli', 'Milano', 'Modena'}",
      "metadata": {
        "trusted": true,
        "scrolled": true
      },
      "outputs": [],
      "execution_count": null
    },
    {
      "id": "0e3dd386-8151-43bd-a4b7-5c6c9d7c3c93",
      "cell_type": "markdown",
      "source": "Intersezione",
      "metadata": {}
    },
    {
      "id": "2516b020-1a83-4e2e-8507-a9faf85f486c",
      "cell_type": "code",
      "source": "print(citta & altre_citta)",
      "metadata": {
        "trusted": true,
        "scrolled": true
      },
      "outputs": [],
      "execution_count": null
    },
    {
      "id": "d6ddcb7c-b85b-4e19-b392-a37acf0d6ede",
      "cell_type": "markdown",
      "source": "Unione",
      "metadata": {}
    },
    {
      "id": "12b709b7-d5a3-456c-b5f5-4faee475ff9b",
      "cell_type": "code",
      "source": "print(citta | altre_citta)",
      "metadata": {
        "scrolled": true,
        "trusted": true
      },
      "outputs": [],
      "execution_count": null
    },
    {
      "id": "cbec8afd-6407-4a55-b2aa-8c9357d668f8",
      "cell_type": "markdown",
      "source": "Differenza",
      "metadata": {}
    },
    {
      "id": "acbe01cc-296c-45b6-9ba7-31905b86ae26",
      "cell_type": "code",
      "source": "print(citta - altre_citta)",
      "metadata": {
        "trusted": true,
        "scrolled": true
      },
      "outputs": [],
      "execution_count": null
    },
    {
      "id": "272eeeeb-af7f-460b-ba1e-5e9875bf5b0f",
      "cell_type": "markdown",
      "source": "Unione esclusiva",
      "metadata": {}
    },
    {
      "id": "ac62bba3-0ee7-4a54-9719-790aef0f5eb2",
      "cell_type": "code",
      "source": "print(citta ^ altre_citta)",
      "metadata": {
        "trusted": true,
        "scrolled": true
      },
      "outputs": [],
      "execution_count": null
    },
    {
      "id": "5ff6d3e6-bbb4-40bc-919c-083b751f4919",
      "cell_type": "markdown",
      "source": "### I Dizionari\n\nNel programmare la soluzione per una certa applicazione è molto comodo rappresentare gli oggetti da gestire con le loro caratteristiche.\nAd es. Persona: nome, data di nascita, residenza, telefono\n\nUn **dizionario** è un insieme di attributi, detti chiavi, ciascuno associato a un valore",
      "metadata": {}
    },
    {
      "id": "e0cc5a5d-9338-4e7d-917a-12a785459023",
      "cell_type": "code",
      "source": "pers = {'nome': 'Gio', 'eta': 20, 'voti': [27, 26]}\nprint(pers)",
      "metadata": {
        "trusted": true
      },
      "outputs": [],
      "execution_count": null
    },
    {
      "id": "1a792e12-5df8-460b-b7a7-b81c36eb2f8a",
      "cell_type": "markdown",
      "source": "Come si vede, anche i dizionari sono eterogenei, con l'unico vincolo che le chiavi sono stringhe.\n\nPer accedere ai valori di un dizionario si usano le chiavi",
      "metadata": {}
    },
    {
      "id": "2140ca6c-426d-4e19-9106-92f28bac04fa",
      "cell_type": "code",
      "source": "print(pers['nome'])",
      "metadata": {
        "trusted": true
      },
      "outputs": [],
      "execution_count": null
    },
    {
      "id": "89935a9c-9989-4c54-a77a-f72bdc927dd5",
      "cell_type": "markdown",
      "source": "E' possibile aggiungere coppie chiave-valore",
      "metadata": {}
    },
    {
      "id": "d40fa177-f055-4fb3-83aa-834c0c0ef2dd",
      "cell_type": "code",
      "source": "pers['residenza'] = 'Modena'\nprint(pers)",
      "metadata": {
        "trusted": true
      },
      "outputs": [
        {
          "name": "stdout",
          "text": "{'nome': 'Gio', 'eta': 20, 'voti': [27, 26], 'residenza': 'Modena'}\n",
          "output_type": "stream"
        }
      ],
      "execution_count": 13
    },
    {
      "id": "edd94461-9ed9-4e8b-8183-d5639502e27d",
      "cell_type": "markdown",
      "source": "...ed anche rimuoverle",
      "metadata": {}
    },
    {
      "id": "195ed57b-22fb-40ce-8cea-c3fdbfb876d1",
      "cell_type": "code",
      "source": "del pers['eta']\nprint(pers)",
      "metadata": {
        "trusted": true
      },
      "outputs": [
        {
          "name": "stdout",
          "text": "{'nome': 'Gio', 'voti': [27, 26], 'residenza': 'Modena'}\n",
          "output_type": "stream"
        }
      ],
      "execution_count": 14
    },
    {
      "id": "a0237a24-b560-479b-b389-32682774c685",
      "cell_type": "markdown",
      "source": "Un dizionario non può avere due volte la stessa chiave: se una chiave viene riassegnata, il nuovo valore sostituisce il vecchio",
      "metadata": {}
    },
    {
      "id": "ce3f2dd4-daf8-4cf5-b686-5a46b91dbf48",
      "cell_type": "code",
      "source": "pers['residenza'] = 'Reggio Emilia'\nprint(pers)",
      "metadata": {
        "trusted": true
      },
      "outputs": [
        {
          "name": "stdout",
          "text": "{'nome': 'Gio', 'voti': [27, 26], 'residenza': 'Reggio Emilia'}\n",
          "output_type": "stream"
        }
      ],
      "execution_count": 15
    },
    {
      "id": "23c2558a-3187-43d8-b7cd-9751372012f6",
      "cell_type": "markdown",
      "source": "L'operatore di test appartenenza `in` verifica la prsenza fi una chiave",
      "metadata": {}
    },
    {
      "id": "db6c0249-5353-4fe1-9468-cc48972d7970",
      "cell_type": "code",
      "source": "if 'residenza' in pers:\n    print('La residenza è ' + pers['residenza'])\nelse:\n    print('La residenza non è nota')",
      "metadata": {
        "trusted": true
      },
      "outputs": [
        {
          "name": "stdout",
          "text": "La residenza è Reggio Emilia\n",
          "output_type": "stream"
        }
      ],
      "execution_count": 18
    },
    {
      "id": "452e63a9-2be2-42cd-9f46-8f8c4ddaf200",
      "cell_type": "code",
      "source": "",
      "metadata": {
        "trusted": true
      },
      "outputs": [],
      "execution_count": null
    }
  ]
}
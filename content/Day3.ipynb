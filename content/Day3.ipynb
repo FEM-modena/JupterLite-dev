{
  "metadata": {
    "kernelspec": {
      "name": "python",
      "display_name": "Python (Pyodide)",
      "language": "python"
    },
    "language_info": {
      "codemirror_mode": {
        "name": "python",
        "version": 3
      },
      "file_extension": ".py",
      "mimetype": "text/x-python",
      "name": "python",
      "nbconvert_exporter": "python",
      "pygments_lexer": "ipython3",
      "version": "3.8"
    }
  },
  "nbformat_minor": 5,
  "nbformat": 4,
  "cells": [
    {
      "id": "ad678e75-e620-4587-a6d0-e55abc6dc8fe",
      "cell_type": "markdown",
      "source": "# Recap: le liste",
      "metadata": {}
    },
    {
      "id": "840630f9-a85b-4032-b1dd-e5d2e8557bd4",
      "cell_type": "markdown",
      "source": "Nello scorso appuntamento abbiamo cominciato ad utilizzare le **Liste**, ovvero variabili composte da una sequenza di elementi di vario tipo.\\\nLa posizione di ciascun elemento è l'**indice** dell'elemento e gli indici vanno da ... ? Ve lo ricordate? Provate!",
      "metadata": {}
    },
    {
      "id": "98612528-af32-4ebc-8250-e238ccadadca",
      "cell_type": "code",
      "source": "dati = [7, \"Modena\", 23.1, 99]",
      "metadata": {
        "trusted": true
      },
      "outputs": [],
      "execution_count": 16
    },
    {
      "id": "18b560de-fd4e-4e15-a2a8-a5a73d8ef22d",
      "cell_type": "code",
      "source": "",
      "metadata": {
        "trusted": true
      },
      "outputs": [],
      "execution_count": null
    },
    {
      "id": "2a3eff8d-2605-476b-9ec8-9313ba933c49",
      "cell_type": "markdown",
      "source": "Gli elementi di una lista possono essere anche assegnati ed utilizzati **come variabili semplici** perché le liste sono **mutabili**",
      "metadata": {}
    },
    {
      "id": "1cff342b-ea00-465d-a1fe-40e6cb01dd30",
      "cell_type": "code",
      "source": "",
      "metadata": {
        "trusted": true
      },
      "outputs": [],
      "execution_count": null
    },
    {
      "id": "ad915977-0704-4f47-82a8-84f720a7b613",
      "cell_type": "markdown",
      "source": "Le liste ammettono gli operatori **+** e **\\*** e la funzione **len( )**. Provate!",
      "metadata": {}
    },
    {
      "id": "f6c4a724-4b2c-4839-9a22-5e1aebc2f553",
      "cell_type": "code",
      "source": "",
      "metadata": {
        "trusted": true
      },
      "outputs": [],
      "execution_count": null
    },
    {
      "id": "beeae8cb-e810-4e21-a59f-64852f01b873",
      "cell_type": "markdown",
      "source": "Anche per le liste vale la regola del **valore istantaneo**",
      "metadata": {}
    },
    {
      "id": "3ce552d9-d009-447f-9298-bd20d2e4a82b",
      "cell_type": "code",
      "source": "peso = 100\ncitta = \"Modena\"\ndati = [peso, citta, 11, 99.2]",
      "metadata": {
        "trusted": true
      },
      "outputs": [],
      "execution_count": 17
    },
    {
      "id": "62666861-f7ed-4ab1-aa6e-bec74cb282ad",
      "cell_type": "code",
      "source": "peso = 50",
      "metadata": {
        "trusted": true
      },
      "outputs": [],
      "execution_count": 18
    },
    {
      "id": "f228dbf7-7871-4b9a-8d63-e99a90c6bdd3",
      "cell_type": "markdown",
      "source": "Quali sono gli elementi di `dati` adesso?",
      "metadata": {}
    },
    {
      "id": "ee7276ca-4426-4aa8-b75a-6484333e2893",
      "cell_type": "code",
      "source": "",
      "metadata": {
        "trusted": true
      },
      "outputs": [],
      "execution_count": null
    },
    {
      "id": "d50f49a3-d877-49b9-afde-9065923ea2e2",
      "cell_type": "markdown",
      "source": "Lo **slicing** accede a *sotto-liste* composte da alcuni elementi della lista di partenza",
      "metadata": {}
    },
    {
      "id": "7a1b1aed-c18c-4a61-b123-5e85911051ac",
      "cell_type": "code",
      "source": "nums = [5, 11, 20, 18, 499, 12]\nnums[1:3]\nnums[2:4] = [3, \"cane\", 1.11]\nnums[:3]\nnums[4:]\nnums[:] ",
      "metadata": {
        "trusted": true
      },
      "outputs": [],
      "execution_count": null
    },
    {
      "id": "91346cec-e8bb-4739-a046-5e62f56a580e",
      "cell_type": "markdown",
      "source": "Per le variabili Lista, Python memorizza il riferimento alle celle di memoria dei suoi elementi.\\\nPerciò assegnare una lista ad un'altra lista **significa avere due variabili che puntano alla stessa lista**.\\\nChe valori avrà `h` dopo aver eseguito la cella di codice seguente? Provate!",
      "metadata": {}
    },
    {
      "id": "a8bf8349-a6bc-4762-92df-bd57d8fcf960",
      "cell_type": "code",
      "source": "h = [1, 3, 8]\nw = h\nw[0] = 1000",
      "metadata": {
        "trusted": true
      },
      "outputs": [],
      "execution_count": 20
    },
    {
      "id": "15010bff-aa83-4604-afe9-19d07c6d90dd",
      "cell_type": "markdown",
      "source": "Lo **slicing** invece **accede ai singoli elementi** e non all'inidirizzo della lista.\\\nChe valori avrà `h` dopo aver eseguito il blocco seguente? Provate!",
      "metadata": {}
    },
    {
      "id": "25e98086-b655-4227-9bb3-feb359b02f7c",
      "cell_type": "code",
      "source": "z = h[:]\nz[0] = 1000",
      "metadata": {
        "trusted": true
      },
      "outputs": [],
      "execution_count": 21
    },
    {
      "id": "2bc36778-6a55-4b26-94cc-54fce26c3de2",
      "cell_type": "markdown",
      "source": "# Day 3 - E se...?",
      "metadata": {}
    },
    {
      "id": "b3e30f4c-1b4a-4c6b-b33a-54cbc68b588a",
      "cell_type": "markdown",
      "source": "## Esecuzione condizionata",
      "metadata": {}
    },
    {
      "id": "724e7008-9055-4d1f-82bd-5bef6c89d14f",
      "cell_type": "markdown",
      "source": "Quando l'interprete Python esegue un programma (o *script*), esegue i comandi in un **flusso di esecuzione**.\\\nIl flusso di esecuzione passa attraverso uno o più **blocchi**, e ciascun blocco viene eseguito dall'inizio alla fine.\n\nUna tipica struttura del flusso di esecuzione di un programma Python è quello della esecuzione condizionata, in cui un blocco viene eseguito SE è verificata, o NON verificata, una certa condizione.\n\nQuesta struttura si chiama comando **if-else**\n\nIl modo migliore per capire questo comando è provarlo.\\\nSe eseguite la cella qui sotto, cosa verrà stampato alla fine?",
      "metadata": {}
    },
    {
      "id": "e7eff106-e58d-4ed2-8efe-fe589e4d1b8e",
      "cell_type": "code",
      "source": "dati = [500, \"Modena\", 99.2]\nlimite = 300\nif dati[0] < limite:\n    max = limite\n    print(\"limite\")\nelse:\n    max = dati[0]\n    print(\"dato\")\nprint(f\"è il maggiore: {max}\")",
      "metadata": {
        "trusted": true,
        "scrolled": true
      },
      "outputs": [],
      "execution_count": null
    },
    {
      "id": "1b87a407-4a2f-490c-b2b3-4034c6199f33",
      "cell_type": "markdown",
      "source": "Provate a cambiare qualcosa della celle precedente, guardate un po' cosa succede...\n\n---",
      "metadata": {}
    },
    {
      "id": "decac286-682b-4f9b-8d1b-754d0ac0a21b",
      "cell_type": "markdown",
      "source": "Adesso tocca a voi!\n\nSfida:\n**Scrivete un programma che\ndato un valore ad una variabile x,\nassegna ad y il quadrato di x \ne se y è minore di 100 stamperà “POCO”\nsennò stamperà “TROPPO”**\n\nUtilizzate una o più celle qua sotto per scrivere il vostro programma.§",
      "metadata": {}
    },
    {
      "id": "ff29e870-93df-4d00-b3be-2a69178b01f3",
      "cell_type": "code",
      "source": "",
      "metadata": {
        "trusted": true
      },
      "outputs": [],
      "execution_count": null
    }
  ]
}
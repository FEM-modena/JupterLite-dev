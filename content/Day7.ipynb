{
  "metadata": {
    "kernelspec": {
      "name": "python",
      "display_name": "Python (Pyodide)",
      "language": "python"
    },
    "language_info": {
      "codemirror_mode": {
        "name": "python",
        "version": 3
      },
      "file_extension": ".py",
      "mimetype": "text/x-python",
      "name": "python",
      "nbconvert_exporter": "python",
      "pygments_lexer": "ipython3",
      "version": "3.8"
    }
  },
  "nbformat_minor": 5,
  "nbformat": 4,
  "cells": [
    {
      "id": "2bc36778-6a55-4b26-94cc-54fce26c3de2",
      "cell_type": "markdown",
      "source": "# Day 7 - Facciamo 2 conti",
      "metadata": {}
    },
    {
      "id": "b3e30f4c-1b4a-4c6b-b33a-54cbc68b588a",
      "cell_type": "markdown",
      "source": "## Il modulo Math",
      "metadata": {}
    },
    {
      "id": "724e7008-9055-4d1f-82bd-5bef6c89d14f",
      "cell_type": "markdown",
      "source": "Tra i numerosi moduli messi a disposizione dall'installazione standard di Python, **math** è sicuramente quello più frequentemente utilizzato perché fornisce, attraverso i suoi metodi, tantissime funzioni matematiche di diverse categorie.\n\nDopo aver importato il modulo `math`, è possibile eseguire i più diversi calcoli matematici.\\\nProvate nelle celle di codice qui sotto ad utilizzare le funzioni che trovate nella [documentazione di Python](https://docs.python.org/3/library/math.html)",
      "metadata": {}
    },
    {
      "id": "c6936790-b7d3-46d1-9bf5-73687214022f",
      "cell_type": "markdown",
      "source": "## math e  Matplotlib\n\nAbbiamo già incontrato il modulo **matplotlib** nello scorso appuntamento.\\\nUtilizzando `matplotlib` e `math` abbiamo a disposizione una piattaforma di programmazione grafica matematica molto potente.\n\nIl sotto-modulo **pyplot** di `matplotlib` è quello che utilizzeremo per visualizzare le nostre applicazioni matematiche.\\\nPer importare `pyplot` si utilizza questo comando\n\n`from matplotlib import pyplot`\n\n## Le Tuple\nLe tuple sono insiemi **immutabili** ed **ordinati** di valori.\n- immutabili: non è possibile modificare i suoi elementi\n- ordinate: ogni elemento ha un indice fisso che parte da 0 e definisce l'ordine della sequenza\n\nSi rappreentano come sequenze di **valori** seperati da virgole.\\\nATTENZIONE: per **valori** si intende qualsiasi elemento che restituisce un valore, quindi non solo costanti, ma variabili, espressioni, funzioni.\nVale però la **regola del valore immediato**: il valore della tupla è quello valutato al momento dell'assegnazione e resta quello.\n",
      "metadata": {}
    },
    {
      "id": "24511c98-57ca-475f-b693-d84429713fef",
      "cell_type": "code",
      "source": "import math\ndimens = 5, 7+2, math.sqrt(4)",
      "metadata": {
        "trusted": true
      },
      "outputs": [],
      "execution_count": null
    },
    {
      "id": "cb13c492-ebd0-47a1-b8b0-a1031146943d",
      "cell_type": "markdown",
      "source": "## La struttura di Pyplot\nDopo aver importato `pyplot`, è possibile richiamare il metodo  `subplots(...)` per configurare i grafici che vogliamo tracciare.1\nIl metodo `subplots` ritorna una **tupla** in cui:\n- Il primo elemento è un variabile **Figure** che contiene la figura grafica che conterrà i tracciati\n- Il secondo elemento è uno o più variabili di tipo **Axes** su cui è possibile tracciare i nostri grafici attraverso il metodo `.plot()`\n\nVediamolo con due esempi. Il primo è il tracciamento di una parabola:",
      "metadata": {}
    },
    {
      "id": "388d47b6-9ab1-4e0f-b304-766a4b7e352c",
      "cell_type": "code",
      "source": "from matplotlib import pyplot\nval_x = list(range(10))\nval_y = []\nfor x in val_x:\n    val_y.append(pow(x,2))\nfig, ax = pyplot.subplots()\nax.plot(val_x, val_y)\npyplot.show()",
      "metadata": {
        "trusted": true
      },
      "outputs": [],
      "execution_count": null
    },
    {
      "id": "90d6d0f8-87f8-42d7-bc1c-f10965338392",
      "cell_type": "markdown",
      "source": "Il secondo esempio invece mostra una **figura** con due grafici disposti uno a fianco all'altro, su di una riga. I due grafici sono disegnati nei due oggetti Axes `ax1` e `ax2` ritornati da `subplots()`",
      "metadata": {}
    },
    {
      "id": "cf7ce3ea-c320-4a0e-8dee-e28dd1200da8",
      "cell_type": "code",
      "source": "from matplotlib import pyplot\nval_x = list(range(10))\ny_retta = []\ny_parab = []\nfor x in val_x:\n    y_retta.append(x)\n    y_parab.append(pow(x,2))\nfig,(ax1,ax2) = pyplot.subplots(1,2)\nax1.plot(val_x, y_retta)\nax2.plot(val_x, y_parab)\npyplot.show()",
      "metadata": {
        "trusted": true
      },
      "outputs": [],
      "execution_count": null
    },
    {
      "id": "89935a9c-9989-4c54-a77a-f72bdc927dd5",
      "cell_type": "markdown",
      "source": "## CIRCONFERENZA CON PYTHON\n\nUtilizziamo la cella qui sotto per tracciare una circonferenza utilizzando un programmino Python.\\\nIl raggio della circonferenza deve essere richiesto come parametro da tastiera",
      "metadata": {}
    },
    {
      "id": "1215d6a5-4f20-45b9-aecd-526f72811d44",
      "cell_type": "code",
      "source": "# Utilizza questa cella per chiedere il valore del raggio\nraggio = await input(\"Inserisci il raggio\")",
      "metadata": {
        "trusted": true
      },
      "outputs": [],
      "execution_count": null
    },
    {
      "id": "ae3e2bc9-bd39-43bf-910f-ccca20ab4ff2",
      "cell_type": "code",
      "source": "from matplotlib import pyplot\nimport math\n# CONTINUA DA QUI IL PROGRAMMA",
      "metadata": {
        "trusted": true,
        "scrolled": true
      },
      "outputs": [],
      "execution_count": 5
    },
    {
      "id": "7c6af726-b4c4-48bc-bb62-af19df2a0703",
      "cell_type": "markdown",
      "source": "### come possiamo fare ?\nNella cella qui sopra aggiungiamo del codice in questo modo:\n\n1. convertiamo la stringa `raggio` in un float\n2. Definiamo due liste vuote: **x_punti** e **y_punti**\n3. Con un ciclo dei valori di angolo da 0 a 360, per ogni angolo:\n   - Convertire l'angolo in gradi in angolo in radianti\n   - Calcolare x ed y come valore di **cos()** e **sen()** dell'angolo\n   - alle liste x_punti e y_punti appendiamo i valori x e y così ottenuti\n5. Usiamo il metodo `plot(x_punti, y_punti)` di pyplot per costruire il grafico \n6. Usiamo il metodo `show()` di pyplot per visualizzare",
      "metadata": {}
    }
  ]
}
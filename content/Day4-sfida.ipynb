{
  "metadata": {
    "kernelspec": {
      "name": "python",
      "display_name": "Python (Pyodide)",
      "language": "python"
    },
    "language_info": {
      "codemirror_mode": {
        "name": "python",
        "version": 3
      },
      "file_extension": ".py",
      "mimetype": "text/x-python",
      "name": "python",
      "nbconvert_exporter": "python",
      "pygments_lexer": "ipython3",
      "version": "3.8"
    }
  },
  "nbformat_minor": 5,
  "nbformat": 4,
  "cells": [
    {
      "id": "d6d849f5-7236-46d6-8b97-6aa5aefe7ec3",
      "cell_type": "markdown",
      "source": "## Programma sfida\nUtilizziamo subito la funzione di inserimento da tastiera per risolvere questo programma-sfida:\\\nScrivete un programma che legge da tastiera 4 nomi (da una singolo input in una cella dedicata) e poi 4 età (da un singolo input in una cella dedicata).\\\nPoi fa la verifica di ciascuna delle 4 età e, se è minore di 18 anni, stampa il relativo nome seguito da “ minore”.",
      "metadata": {}
    },
    {
      "id": "b6681335-78d8-45ad-bf28-bd48c4f880e7",
      "cell_type": "code",
      "source": "",
      "metadata": {
        "trusted": true
      },
      "outputs": [],
      "execution_count": null
    }
  ]
}
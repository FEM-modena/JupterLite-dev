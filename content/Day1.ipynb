{
  "metadata": {
    "kernelspec": {
      "name": "python",
      "display_name": "Python (Pyodide)",
      "language": "python"
    },
    "language_info": {
      "codemirror_mode": {
        "name": "python",
        "version": 3
      },
      "file_extension": ".py",
      "mimetype": "text/x-python",
      "name": "python",
      "nbconvert_exporter": "python",
      "pygments_lexer": "ipython3",
      "version": "3.8"
    }
  },
  "nbformat_minor": 5,
  "nbformat": 4,
  "cells": [
    {
      "id": "2bc36778-6a55-4b26-94cc-54fce26c3de2",
      "cell_type": "markdown",
      "source": "# Day 1 - Jupyter e l'interprete Python",
      "metadata": {}
    },
    {
      "id": "840630f9-a85b-4032-b1dd-e5d2e8557bd4",
      "cell_type": "markdown",
      "source": "__JupyterLab__ è un applicazione web per creare documenti interattivi e che permette di utilizzare l’ __interprete Python__ per generare il contenuto delle finestre che stiamo utilizzando.\n\nLe pagine di Jupyter sono organizzate in __celle__ di contenuto, che possono essere di tre tipi:\n- Testo puro (raw)\n- Markdown\n- Celle di codice",
      "metadata": {}
    },
    {
      "id": "b3e30f4c-1b4a-4c6b-b33a-54cbc68b588a",
      "cell_type": "markdown",
      "source": "## Celle di testo grezzo (raw)",
      "metadata": {}
    },
    {
      "id": "724e7008-9055-4d1f-82bd-5bef6c89d14f",
      "cell_type": "markdown",
      "source": "Le celle di testo grezzi contengono testi privi di alcuna formattazione. Sono utili per scrivere commenti o note che non necessitano di alcun abbellimento o strutturazione del formato.\n\n---\n\nComiciamo ad inserire una nuova cella di testo semplice (raw) qui sotto, subito dopo questa scritta:",
      "metadata": {}
    },
    {
      "id": "b98547c6-5e32-4a13-b8ca-470340b29ce9",
      "cell_type": "raw",
      "source": "",
      "metadata": {}
    },
    {
      "id": "0ec81b60-ac05-40db-bc62-605059eebcd5",
      "cell_type": "markdown",
      "source": "Provate ad usare le scorciatoie __a__ e __b__ per creare nuove celle. Per salvare le modifiche ad una cella raw potete usare `SHIFT-ENTER`.\\\nLa sequenza `SHIFT-ENTER` in realtà è il comando di __esecuzione__ della cella, ma per un testo grezzo, l'esecuzione corrisponde alla semplice visualizzazione.\n\nLe scorciatoie a tastiera sono utili da conoscere, ma potete comunque usare le barre dei pulsanti ed i menu, se volete.",
      "metadata": {}
    },
    {
      "id": "3ffb0eb4-8399-45ca-b87e-16f469bde17f",
      "cell_type": "markdown",
      "source": "## Celle Markdown",
      "metadata": {}
    },
    {
      "id": "89eb6da1-e125-4148-b7a1-37acb8d6c6ae",
      "cell_type": "markdown",
      "source": "Le celle markdown permettono di modificare il formato dei testi per renderli più espressivi. \n\nIl markdown funziona un po' come l'HTML, cioè definisce le aree da formattare in grassetto, corsivo, grande piccolo, etc... attraverso dei codici che istruiscono il motore di Jupyter su come rappresentare quella porzione di testo.\n\nAnche in questo caso `SHIFT-ENTER` \"esegue\" la cella, cioè applica la formattazione e la visualizza.\n\n---",
      "metadata": {}
    },
    {
      "id": "140dc1c6-ae1d-4d86-ab14-78c53e219b3d",
      "cell_type": "markdown",
      "source": "Creiamo un altra cella e cambiamola in __Markdown__ (tasto __m__ nella cella, prima di modificarla)",
      "metadata": {}
    },
    {
      "id": "a7929cfb-ec7c-4a27-8e28-84669a12242e",
      "cell_type": "markdown",
      "source": "",
      "metadata": {}
    },
    {
      "id": "f600c480-3259-4b2c-af06-5c4f84a47205",
      "cell_type": "markdown",
      "source": "Markdown: Scriviamo un titolo di livello 1",
      "metadata": {}
    },
    {
      "id": "e17ff26b-342b-4e9b-a515-95a3e53ef1e0",
      "cell_type": "markdown",
      "source": "Markdown: Scriviamo titoli di livello 2 e 3",
      "metadata": {}
    },
    {
      "id": "4133cf79-7d3f-47f6-8553-fcd99f5ce4ff",
      "cell_type": "markdown",
      "source": "Markdown: Scriviamo una frase con parole in __grassetto__",
      "metadata": {}
    },
    {
      "id": "6b28ad79-25d4-419e-8807-b9fd907cbbb5",
      "cell_type": "markdown",
      "source": "Markdown: Scriviamo una frase con parole in _corsivo_",
      "metadata": {}
    },
    {
      "id": "0bcd8293-c85b-44d5-91cd-464b5e791088",
      "cell_type": "markdown",
      "source": "Markdown: Facciamo un elenco puntato",
      "metadata": {}
    },
    {
      "id": "199dc3e4-d9b9-4207-b768-45e61d8d8b99",
      "cell_type": "markdown",
      "source": "Markdown: Facciamo un elenco numerato",
      "metadata": {}
    },
    {
      "id": "795c3997-8a18-460a-ad64-97846f35e9bc",
      "cell_type": "markdown",
      "source": "Markdown: Da qui in poi, _fate quello che vi pare!_ (Markdown Reference)",
      "metadata": {}
    },
    {
      "id": "c4cbedd3-d506-4908-9725-243ad9c2f006",
      "cell_type": "markdown",
      "source": "## Celle di codice (Python)",
      "metadata": {}
    },
    {
      "id": "1485ea36-ae45-4230-80b0-525ed0a387db",
      "cell_type": "markdown",
      "source": "Le celle di codice accettano codice Python (o altro linguaggio) per poter generare contenuto sotto di esse.\n\nJupyter può utilizzare diversi linguaggi per questa funzione. Inizialmente supportava 3 linguaggi: __Julia__, __Python__ ed __R__, da cui il nome: Ju-Pyt-(e)R. Nel nostro percorso utilizzeremo solo Python.\n\nOgni cella Python, quando eseguita con `SHIFT-ENTER`, invia il proprio contenuto all'__Interprete Python__ che interpreta quel che è stato scritto e, se corretto, mostra sotto la cella il risultato dell'eleborazione.\n\nL'interprete Python che gira dietro ad una pagina Jupyter si chiama __kernel__ e ce ne possono essere più di uno che lavorano parallelamente in più pagine. Il kernel in uso trovate scritto in alto a destra in questa pagina.",
      "metadata": {}
    },
    {
      "id": "bd5e8eb5-aa69-4b60-ab6c-73d1c4eb86c4",
      "cell_type": "markdown",
      "source": "### Semplici calcoli con Python",
      "metadata": {}
    },
    {
      "id": "823fc197-88f3-4508-8469-5178e42e0cfb",
      "cell_type": "markdown",
      "source": "Come abbiamo visto, nel suo utilizzo più elementare, Python può essere usato come semplice calcolatore (ma si potrebbe offendere se lo usate solo per questo &#128516;!)\n\nGli operatori che possiamo usare sono `+ - * / ** % //`\n\nL'interprete Python, così com'è, non dispone di molte funzioni matematiche. Questa è una scelta precisa per Python: vedremo in seguito come è possibile richiamare dei __moduli__ per arricchire l'interprete di innumerevole quantità di funzioni per qualsiasi tipo di elaborazione.\n\nPer adesso possiamo accontentarci delle cosiddette __funzioni built-in__ cioè inserite direttamente nell'interprete, tra cui\n\n- `divmod(x,y)`\n- `pow(b, exp)`\n- `abs(x)`\n\n---\n\nProviamolo anche qui: creiamo qualche cella è facciamo dei calcoli matematici",
      "metadata": {}
    },
    {
      "id": "706a1d5f-f388-4eda-bc54-6f3779d791ba",
      "cell_type": "code",
      "source": "",
      "metadata": {},
      "outputs": [],
      "execution_count": null
    },
    {
      "id": "1eb8db50-458d-4ae8-be29-5bdb12da8b9b",
      "cell_type": "markdown",
      "source": "### Utilizziamo le variabili",
      "metadata": {}
    },
    {
      "id": "aeb555db-1bda-4bd5-9c67-036fbb2d3f44",
      "cell_type": "markdown",
      "source": "Le __variabili__ sono memorie che possiamo utilizzare per conservare valori o i risultati delle operazioni. L'uso delle variabili è fondamentale per qualsiasi linguaggio di programmazione: senza di esse l'unica cosa che si potrebbe fare è utilizzare il risultato dell'esecuzione precedente per la successiva e niente altro!\n\nUna variabile è contraddistinta da un __nome__ ed un __valore__:\n- il __nome__ è una sequenza che ci aiuta a ricordare il suo significato\n- il __valore__ è il contenuto attuale della variabile, _che può cambiare nel tempo_.\n\nPer inserire un valore in una variabile dobbiamo richiedere all'interprete un'__assegnazione__.\\\nL'assegnazione è un comando dato all'interprete con questa forma: `<nome> = <valore>`\n\n`<valore>` è una qualsiasi espressione che dà un risultato. Il valore viene mantenuto fino a quando non viene modificato con un'altra assegnazione o quando riavviato il kernel.\n\nPer vedere il valore di una variabile basta scrivere il nome della variabile nell'ultima riga della cella ed eseguire la cella.\n\nAdesso proviamoqualche assegnazione. Potete fare anche più assegnazioni nella stessa cella",
      "metadata": {}
    },
    {
      "id": "d704f78c-4c6e-4ca6-9956-8f5c0298bbbc",
      "cell_type": "code",
      "source": "",
      "metadata": {},
      "outputs": [],
      "execution_count": null
    },
    {
      "id": "58e83c44-bcb2-4b9d-9a6b-8c126c453610",
      "cell_type": "markdown",
      "source": "Un valore è una qualsiasi espressione che dà un risultato: l'espressione può a sua volta contenere o utilizzare variabili, in modo da combinare il valore delle variabili in espressioni sempre più articolate\n\nAdesso, utilizziamo due o più variabili in veri calcoli aritmetici",
      "metadata": {}
    },
    {
      "id": "794e40ed-134d-4bc9-a1c4-7bdc0280339d",
      "cell_type": "code",
      "source": "",
      "metadata": {},
      "outputs": [],
      "execution_count": null
    },
    {
      "id": "f79710ac-2f3c-4cb5-a122-aa4cfa221060",
      "cell_type": "markdown",
      "source": "### Variabili testuali: stringhe",
      "metadata": {}
    },
    {
      "id": "075862fb-3344-42bd-a269-f1593c870b5a",
      "cell_type": "markdown",
      "source": "Le variabili possono contenere anche dei testi o sequenze di caratteri: in questo caso prendono il nome di __stringhe__.\\\nPer esprimere il valore di una stringa bisogna mettere la sequenza di caratteri tra apici singoli `''` o doppi `\"\"`",
      "metadata": {}
    },
    {
      "id": "68e54607-4fa0-4b21-8502-5bd980fefb5b",
      "cell_type": "code",
      "source": "",
      "metadata": {},
      "outputs": [],
      "execution_count": null
    },
    {
      "id": "77c9d352-74fc-422c-8700-29a1b16f08ce",
      "cell_type": "markdown",
      "source": "E' possibile anche definire il valore di una stringa come espressione. In questo caso, l'unico operatore valido è il `+` ed esprime la concatenazione di più stringhe a formarne una sola.\n\nE' possibile mescolare stringhe e valori numerici con l'operatore __f\"\"__ .In questo modo è possibile costruire frasi che descrivono il significato del valore ottenuto da una elaborazione precedente.\n\nProvate: valorizzate una variabile con una o più espressioni/variabili e scrivete poi un testo che dice \"Il risultato finale è : ...\"",
      "metadata": {}
    },
    {
      "id": "09631316-1295-487c-8520-8bc4c50edb0b",
      "cell_type": "code",
      "source": "",
      "metadata": {},
      "outputs": [],
      "execution_count": null
    },
    {
      "id": "dd72768c-f385-415c-a813-4fc80f20834f",
      "cell_type": "markdown",
      "source": "### Jupyter: l'ordine di esecuzione",
      "metadata": {}
    },
    {
      "id": "5d22b676-b7b0-4edb-80ae-f2ec297d1e1a",
      "cell_type": "markdown",
      "source": "__Attenzione__: il valore delle variabili viene assegnato nell'__ordine in cui le celle sono eseguite__, __non__ nell'ordine in cui appaiono nel Notebook!\\\nVediamolo:",
      "metadata": {}
    },
    {
      "id": "8807c4d9-a33a-4069-a0c7-2243b34baaf1",
      "cell_type": "code",
      "source": "",
      "metadata": {},
      "outputs": [],
      "execution_count": null
    }
  ]
}
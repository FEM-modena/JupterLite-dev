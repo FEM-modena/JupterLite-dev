{
  "metadata": {
    "kernelspec": {
      "name": "python",
      "display_name": "Python (Pyodide)",
      "language": "python"
    },
    "language_info": {
      "codemirror_mode": {
        "name": "python",
        "version": 3
      },
      "file_extension": ".py",
      "mimetype": "text/x-python",
      "name": "python",
      "nbconvert_exporter": "python",
      "pygments_lexer": "ipython3",
      "version": "3.8"
    }
  },
  "nbformat_minor": 4,
  "nbformat": 4,
  "cells": [
    {
      "cell_type": "markdown",
      "source": "# Attività di progetto 5",
      "metadata": {}
    },
    {
      "cell_type": "markdown",
      "source": "Nella prima attività di questo progetto (**Day#2**) abbiamo caricato, utilizzando una cella di codice, i dati relativi alle stazioni ARPA-E di monitoraggio della qualità dell'aria nella provincia di Modena.\n\nSe non trovate il file CSV nella vostra directory, potete riscaricarlo [da qui](https://tech.agilioty.com/Day2/Modena.csv).\n**ATTENZIONE**: verificate che il file scaricato si chiami **\"Modena.csv\"**: se così no fosse, rinominatelo manualmente in modo che abbia questo nome.\n\nIl file \"Modena.csv\" è una tabella di database con i dati identificativi delle stazioni.\\\nLe ultime due colonne si chiamano **\"coord. X\"** e **\"coord. Y\"** e rappresentano le coordinate geografiche delle stazioni nel sistema cartografico **UTM - WGS84**.\n\nQuesti campi permettono di posizionare geograficamente le stazioni su di una mappa.\\\nEd è proprio quello che faremo oggi, grazie alla libreria **Matplotlib**.\n\nQuello che faremo è quello di mettere queste coordinate in due liste coordinate e poi utilizzeremo le X e le Y per tracciare dei segnaposto su di una mappa della Provincia di Modena.\n\nL'abbiamo detto diverse volte, ma fa bene ripetere: ciascuna riga del CSV è una **lista** di valori di vario tipo, e l'intero file CSV può essere pensato come una **lista di liste**, una lista cioè che ha a sua volta liste come elementi.\\\nI campi *coord. X* e *coord. Y* sono rispettivamente gli elementi **6 e 7** di ciascuna riga",
      "metadata": {}
    },
    {
      "cell_type": "markdown",
      "source": "## Visualizzazione stazioni su mappa",
      "metadata": {}
    },
    {
      "cell_type": "code",
      "source": "import csv\nfrom matplotlib import pyplot\nfrom matplotlib import image\n\n# Coordinate angolo in alto a sinistra\nX_UTM_LEFT = 617269.13\nY_UTM_TOP = 4980834.597\n# Dim immagine in punti pixel\nLARG_IMMAGINE = 515\nALT_IMMAGINE = 700\n# Dimensioni reali dell'area geografica\nLARG_AREA_METRI = 70028.256\nALT_AREA_METRI = 95256.532\n# Fattori di scala\nscala_x = LARG_IMMAGINE / LARG_AREA_METRI\nscala_y = ALT_IMMAGINE / ALT_AREA_METRI\n\nmapmodena = image.imread('ProvinciaModena.gif') \n\npos_x = []\npos_y = []\nwith open('Modena.csv', 'r', newline='') as f:\n    reader = csv.reader(f, delimiter=',')\n    stazioni = list(reader)\n    for riga in stazioni[1:]:\n        # AGGIUNGETE QUI IL CODICE CHE LEGGE I PUNTI\n\npyplot.style.use('_mpl-gallery')\n# QUI GENERIAMO LA TUPLA COM FIGURA E UN SOLO SUBPLOT. COME?\n\nfig.set_size_inches(5.0, 7.0)\n# QUI INSERIAMO I PUNTI NEL SUBPLOT. COME?\n\npyplot.axis('off')\npyplot.imshow(mapmodena) \npyplot.show()",
      "metadata": {
        "trusted": true
      },
      "outputs": [],
      "execution_count": null
    },
    {
      "cell_type": "code",
      "source": "",
      "metadata": {
        "trusted": true
      },
      "outputs": [],
      "execution_count": null
    }
  ]
}
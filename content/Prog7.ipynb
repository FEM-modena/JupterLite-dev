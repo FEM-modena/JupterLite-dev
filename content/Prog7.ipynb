{
  "metadata": {
    "kernelspec": {
      "name": "python",
      "display_name": "Python (Pyodide)",
      "language": "python"
    },
    "language_info": {
      "codemirror_mode": {
        "name": "python",
        "version": 3
      },
      "file_extension": ".py",
      "mimetype": "text/x-python",
      "name": "python",
      "nbconvert_exporter": "python",
      "pygments_lexer": "ipython3",
      "version": "3.8"
    }
  },
  "nbformat_minor": 5,
  "nbformat": 4,
  "cells": [
    {
      "id": "2d8ceaff-d57a-4439-bc59-ec035ba22450",
      "cell_type": "markdown",
      "source": "# Attività di progetto 7\n## Grafici con Matplotlib\nNel \"Day 6\" abbiamo realizzato un grafico del particolato della stazione del Parco Ferrari con questo programmino. Ricordate?",
      "metadata": {}
    },
    {
      "id": "550d5c92-22bd-45cb-b058-a1d12a59070e",
      "cell_type": "code",
      "source": "import csv\nfrom matplotlib import pyplot\nwith open('ParcoFerrari-PM10.csv', 'r', newline='') as f:\n    reader = csv.reader(f, delimiter=',')\n    dati = list(reader)\n    etichette = []\n    valori = []\n    for riga in dati[1:100]:\n        etichette.append(riga[3])\n        valori.append(float(riga[4]))\npyplot.figure(figsize=(15,6))\npyplot.plot(etichette, valori)\npyplot.xticks(rotation=90)\npyplot.show()\n",
      "metadata": {
        "trusted": true
      },
      "outputs": [],
      "execution_count": null
    },
    {
      "id": "924a353c-208e-41ad-a6c0-506cb8e45a02",
      "cell_type": "markdown",
      "source": "In diverse circostanze, possiamo usare i grafici per evidenziare visivamente l'impatto dell'occorrenza di certi eventi legati al monitoraggio della qualità dell'aria.\n\n## Verifica visuale del superamento dei limiti\n\nQuesta volta utilizzeremo i dati di monitoraggio del mese di Ottobre 2024 della centralina di Via Giardini.\\\nIl file è sempre un CSV e si tratta di **\"Misure-ViaGiardini-ottobre2024.csv\"**. Esso contiene i valori misurati delle principali componenti della qualità dell'aria:\n- Ossido di Azoto : NO\n- BiOssido di Azoto: NO2\n- Particolato PM10: PM10\n\nTuttavia questa volta useremo un meccanismo del modulo `csv` che legge il file come lista di **dizionari**: ciascuna riga nella lista diventa un **dizionario** in cui la **chiave** è il **nome della colonna**, nella riga ZERO del CSV, ed il **valore** quello della relativa cella.\\\nQuesto evita di dover trattare ogni riga come lista ed utilizzare gli indici per accedere ai valori: un modo sicuramente meno intuitivo.\n\nDovremo solo includere nelle liste i dati per pyplot **solo quelli rlativi al PM10**, ciè che hanno \"PM10\" nel campo \"parametro\".\n\nAl posto del metodo `plot` di pyplot, utilizzeremo il metodo `bar` per avere la possibilità di **cambiare colore alla barra se il valore supera il limite** stabilito del PM10:\\\n- Se il valore supera il `limite`, la barra deve essere **rossa**\n- Altrimenti la barra deve essere **verde**.\n\nAnche stavolta, completeremo un programma di cui c'è solo la parte iniziale, quella che legge il file CSV e lo carica nella variabile `archivio_misure`.\\",
      "metadata": {}
    },
    {
      "id": "ae3e2bc9-bd39-43bf-910f-ccca20ab4ff2",
      "cell_type": "code",
      "source": "import csv\nfrom matplotlib import pyplot\n\netichette = []\nvalori = []\ncolori = []\nlimite = 30\nwith open('Misure-ViaGiardini-ottobre2024.csv', 'r') as f:\n    archivio_misure = csv.DictReader(f, delimiter=',')\n    for misura in archivio_misure:\n        # Continuate il programma da qui",
      "metadata": {
        "trusted": true
      },
      "outputs": [],
      "execution_count": null
    },
    {
      "id": "7c6af726-b4c4-48bc-bb62-af19df2a0703",
      "cell_type": "markdown",
      "source": "### cosa possiamo fare ?\nNella cella qui sopra aggiungiamo del codice in questo modo:\n\n1. Importiamo il sottomodulo pyplot da matplotlib\n2. Definiamo tre array vuoti: **etichette**, **valori** e **colori**\n3. Con un ciclo che legge ciascuna riga del CSV come dizionario:\n   - alle **etichette** appendiamo il campo \"orario\"\n   - ai **valori** appendiamo i valori **solo se si tratta di particolato**, e **convertito in float**\n   - ai colori si aggiunge il codice del **rosso** se è maggiore del limite, verde se minore\n4. Usiamo il metodo `bar(listaX, listaY, color=listacolori)` dell'axis per costruire il grafico \n5. Usiamo il metodo `show()` di pyplot per visualizzare il grafico",
      "metadata": {}
    },
    {
      "id": "003b048f-fa6b-44b1-bf83-4645aea3cdce",
      "cell_type": "code",
      "source": "",
      "metadata": {
        "trusted": true
      },
      "outputs": [],
      "execution_count": null
    }
  ]
}
{
  "metadata": {
    "kernelspec": {
      "name": "python",
      "display_name": "Python (Pyodide)",
      "language": "python"
    },
    "language_info": {
      "codemirror_mode": {
        "name": "python",
        "version": 3
      },
      "file_extension": ".py",
      "mimetype": "text/x-python",
      "name": "python",
      "nbconvert_exporter": "python",
      "pygments_lexer": "ipython3",
      "version": "3.8"
    }
  },
  "nbformat_minor": 4,
  "nbformat": 4,
  "cells": [
    {
      "cell_type": "markdown",
      "source": "# Attività di progetto 6",
      "metadata": {}
    },
    {
      "cell_type": "markdown",
      "source": "Nell'ultima attività di questo progetto (**Day#8**) abbiamo costruito un programma che, prendendo i dati dalla tabella delle centraline di monitoraggio aria dell'ARPA-E, traccia le loro posizioni su una mappa della provincia di Modena.\n\nPiù precisamente, il programma \n- legge le 6 righe del file CSV **\"Modena.csv\"**\n- prende da quelle righe le **coordinate geografiche X e Y** espresse nel sistema  nel sistema cartografico **UTM - WGS84**\n- le **scala** e **trasla** rispetto alle dimensioni della mappa e alle coordinate dell'angolo in alto a sinistra, e infine\n- posiziona un **marker** per ogni posizione sulla cartina\n\nPer fare questo, abbiamo usato il modulo **matplotlib.pyplot** e il modulo **csv** ed abbiamo costrito il programma della cella qui sotto.\n\nLanciate la cella seguente e verificate che funziona...\n\n**NOTA**: Se non trovate il file CSV nella vostra directory, potete riscaricarlo [da qui](https://tech.agilioty.com/Day2/Modena.csv).\\\n**ATTENZIONE**: verificate che il file scaricato si chiami **\"Modena.csv\"**: se così non fosse, rinominatelo manualmente in modo che abbia questo nome.",
      "metadata": {}
    },
    {
      "cell_type": "markdown",
      "source": "## Visualizzazione stazioni su mappa",
      "metadata": {}
    },
    {
      "cell_type": "code",
      "source": "import csv\nfrom matplotlib import pyplot\nfrom matplotlib import image\n\n# Coordinate angolo in alto a sinistra\nX_UTM_LEFT = 617269.13\nY_UTM_TOP = 4980834.597\n# Dim immagine in punti pixel\nLARG_IMMAGINE = 515\nALT_IMMAGINE = 700\n# Dimensioni reali dell'area geografica\nLARG_AREA_METRI = 70028.256\nALT_AREA_METRI = 95256.532\n# Fattori di scala\nscala_x = LARG_IMMAGINE / LARG_AREA_METRI\nscala_y = ALT_IMMAGINE / ALT_AREA_METRI\n\nmapmodena = image.imread('ProvinciaModena.gif') \n\npos_x = []\npos_y = []\n\nwith open('Modena.csv', 'r', newline='') as f:\n    reader = csv.reader(f, delimiter=',')\n    stazioni = list(reader)\n    for riga in stazioni[1:]:\n        # LETTURA DEI PUNTI\n        coord_x = float(riga[6])\n        coord_y = float(riga[7])\n        dist_x = (coord_x - X_UTM_LEFT) * scala_x\n        dist_y = (Y_UTM_TOP - coord_y) * scala_y\n        pos_x.append(dist_x)\n        pos_y.append(dist_y)\n\npyplot.style.use('_mpl-gallery')\n# QUI GENERIAMO LA TUPLA COM FIGURA E UN SOLO SUBPLOT. COME?\nfig, ax = pyplot.subplots()\n\nfig.set_size_inches(5.0, 7.0)\n# QUI INSERIAMO I PUNTI NEL SUBPLOT. COME?\nax.plot(pos_x, pos_y, 'x', markeredgewidth=3, color='r')\n\npyplot.axis('off')\npyplot.imshow(mapmodena) \npyplot.show()",
      "metadata": {
        "trusted": true
      },
      "outputs": [],
      "execution_count": null
    },
    {
      "cell_type": "markdown",
      "source": "## Da un unico programma principale ad un programma con funzioni\n\nIl programma di questa cella è un unico **programma principale**.\\\nIn realtà, potremmo renderlo più modulare introducendo qualche **funzione**!\n\nGuardate ad esempio il blocco di codice che inizia con \n```\nwith open('Modena.csv', 'r', newline='') as f:\n```\nQuesta parte di codice utilizza **solamente variabili definite dentro il blocco** ed esegue il blocco nel ciclo `for`.\n\nPrendete poi il blocco il blocco nel ciclo `for`:\n```\ncoord_x = float(riga[6])\ncoord_y = float(riga[7])\ndist_x = (coord_x - X_UTM_LEFT) * scala_x\ndist_y = (Y_UTM_TOP - coord_y) * scala_y\npos_x.append(dist_x)\npos_y.append(dist_y)\n```\nAnche questo blocco utilizza **solamente variabili definite dentro il blocco** ad eccezione delle liste `pos_x` e `pos_y`, definite **esternamente**, che sono il risultato finale dell'esecuzione.\n\nPerché non provare a trasformarle in funzioni?\\\nFacendolo, renderete il programma più modulare ed costruirete funzioni che più facilmente potrete utilizzare per risolvere problemi simili!\n\nIl trucco è:\n1. Identificare il blocco da trasformare in funzione (già fatto)\n2. Analizzare cosa deve fare la funzione e dargli un nome\n3. Traovare quali possono essere gli argomenti delle funzioni\n\nProviamo insieme!\n\nNella cella seguente trovate lo stesso programma da cui abbiamo rimosso i due blocchi descritti in precedenza.\\\nLe funzioni costruitele voi e... occhio alle **variabili globali**!\n",
      "metadata": {}
    },
    {
      "cell_type": "code",
      "source": "import csv\nfrom matplotlib import pyplot\nfrom matplotlib import image\n\n# Coordinate angolo in alto a sinistra\nX_UTM_LEFT = 617269.13\nY_UTM_TOP = 4980834.597\n# Dim immagine in punti pixel\nLARG_IMMAGINE = 515\nALT_IMMAGINE = 700\n# Dimensioni reali dell'area geografica\nLARG_AREA_METRI = 70028.256\nALT_AREA_METRI = 95256.532\n# Fattori di scala\nscala_x = LARG_IMMAGINE / LARG_AREA_METRI\nscala_y = ALT_IMMAGINE / ALT_AREA_METRI\n\nmapmodena = image.imread('ProvinciaModena.gif') \n\npos_x = []\npos_y = []\n\n# DEFINITE QUI LA PRIMA FUNZIONE\n\n# DEFINITE QUI LA SECONDA FUNZIONE\n\n# QUI LE RICHIAMIAMO \nleggi_dati_stazioni('Modena.csv')\n\npyplot.style.use('_mpl-gallery')\n# QUI GENERIAMO LA TUPLA COM FIGURA E UN SOLO SUBPLOT. COME?\nfig, ax = pyplot.subplots()\n\nfig.set_size_inches(5.0, 7.0)\n# QUI INSERIAMO I PUNTI NEL SUBPLOT. COME?\nax.plot(pos_x, pos_y, 'x', markeredgewidth=3, color='r')\n\npyplot.axis('off')\npyplot.imshow(mapmodena) \npyplot.show()",
      "metadata": {
        "trusted": true
      },
      "outputs": [],
      "execution_count": null
    },
    {
      "cell_type": "code",
      "source": "",
      "metadata": {
        "trusted": true
      },
      "outputs": [],
      "execution_count": null
    }
  ]
}
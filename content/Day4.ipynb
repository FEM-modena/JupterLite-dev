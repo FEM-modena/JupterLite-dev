{
  "metadata": {
    "kernelspec": {
      "name": "python",
      "display_name": "Python (Pyodide)",
      "language": "python"
    },
    "language_info": {
      "codemirror_mode": {
        "name": "python",
        "version": 3
      },
      "file_extension": ".py",
      "mimetype": "text/x-python",
      "name": "python",
      "nbconvert_exporter": "python",
      "pygments_lexer": "ipython3",
      "version": "3.8"
    }
  },
  "nbformat_minor": 5,
  "nbformat": 4,
  "cells": [
    {
      "id": "ad678e75-e620-4587-a6d0-e55abc6dc8fe",
      "cell_type": "markdown",
      "source": "# Recap: Programmi, blocchi e comandi condizionali",
      "metadata": {}
    },
    {
      "id": "840630f9-a85b-4032-b1dd-e5d2e8557bd4",
      "cell_type": "markdown",
      "source": "Nello scorso appuntamento abbiamo avuto il primo contatto con gli **script** Python, ovvero file di testo che contengono sequenze di comandi e che sono in effetti **programmi** Python.\\\nQuesti file, a cui si dà normalmente estensione **.py**, possono essere passati all'interprete affinchè li esegua dall'inizio alla fine.\\\nL'utilità dei programmi è che possono essere eseguiti più volte, magari con dati diversi, per compiere efficientemente operazioni ripetitive.\n\nI programmi di Python sono organizzati in **blocchi** che sono, a loro volta, sequenze di comandi. L'interprete, nell'eseguire i comandi dello **script** passa da un blocco all'altro seguendo un **flusso di esecuzione**\n\nI flussi di esecuzione possono essere più di uno e l'interprete può decidere di seguire un flusso oppure un altro in base alla valutazione di una condizione.\\\nAbbiamo così il comando **if-else** o **comando condizionale**\n\nProvate a far scrivere \"Il limite è più grande\" o \"Il dato è più grande\" dando un valore opportuno alla variabile `limite`",
      "metadata": {}
    },
    {
      "id": "98612528-af32-4ebc-8250-e238ccadadca",
      "cell_type": "code",
      "source": "dati = [500, \"Modena\", 99.2]\nlimite = 700\nif dati[0] < limite:\n    max = limite\n    print(\"Il limite \")\nelse:\n    max = dati[0]\n    print(\"Il dato \")\nprint(f\"è più grande e vale {max}\")",
      "metadata": {
        "trusted": true
      },
      "outputs": [],
      "execution_count": null
    },
    {
      "id": "2a3eff8d-2605-476b-9ec8-9313ba933c49",
      "cell_type": "markdown",
      "source": "Ricordate che la parte **else** del comando **if-else** non è obbligatoria: se manca, l'interprete non farà nulla se la condizione e valutata come `false`",
      "metadata": {}
    },
    {
      "id": "1cff342b-ea00-465d-a1fe-40e6cb01dd30",
      "cell_type": "code",
      "source": "dati = [500, \"Modena\", 99.2]\nlimite = 700\nif dati[0] > limite:\n    print(\"Hai superato il limite!\")\nprint(\"Ho finito\")",
      "metadata": {
        "trusted": true
      },
      "outputs": [],
      "execution_count": null
    },
    {
      "id": "2bc36778-6a55-4b26-94cc-54fce26c3de2",
      "cell_type": "markdown",
      "source": "# Day 4 - Inserite, prego!",
      "metadata": {}
    },
    {
      "id": "b3e30f4c-1b4a-4c6b-b33a-54cbc68b588a",
      "cell_type": "markdown",
      "source": "## Funzioni e metodi",
      "metadata": {}
    },
    {
      "id": "724e7008-9055-4d1f-82bd-5bef6c89d14f",
      "cell_type": "markdown",
      "source": "Attraverso le **funzioni** l'interprete produce un valore o un servizio in base ad una sequenza di valori passati come **argomenti** o **paramtetri**\\\nIn matematica avviene la stessa cosa: con la funzione `y = f(x)`, otteniamo un valore (y) trasformando un valore (x) attraverso una espressione.",
      "metadata": {}
    },
    {
      "id": "e7eff106-e58d-4ed2-8efe-fe589e4d1b8e",
      "cell_type": "code",
      "source": "lato = 4\narea_quadrato = pow(lato, 2)\naltezza = 3\narea_rettangolo = lato * altezza\nif area_quadrato > area_rettangolo:\n    print(\"Il quadrato è più grande!\")\nelse:\n    print(\"Il rettangolo è più grande\")",
      "metadata": {
        "trusted": true
      },
      "outputs": [],
      "execution_count": null
    },
    {
      "id": "1b87a407-4a2f-490c-b2b3-4034c6199f33",
      "cell_type": "markdown",
      "source": "Domanda: Quante funzioni abbiamo usato in questo programmino?\n\nFunzioni e variabili hanno in comune il fatto di fornire un **valore** se inserite in una espressione\\\nPerciò in qualsiasi punto serva un valore, è possibile usare una variabile o una funzione.\n\nProvate a riscrivere il programma della cella di codice qua sopra **senza** definire ed utilizzare la variabile `area_quadrato`.",
      "metadata": {}
    },
    {
      "id": "73635fa2-c2fd-4a1f-806f-b58e4c78b6f3",
      "cell_type": "code",
      "source": "",
      "metadata": {
        "trusted": true
      },
      "outputs": [],
      "execution_count": null
    },
    {
      "id": "decac286-682b-4f9b-8d1b-754d0ac0a21b",
      "cell_type": "markdown",
      "source": "I **metodi** sono molto simili alle funzioni ma usano un formalismo diverso per indicare che il valore dipende dall'elemento a cui appartengono.\\\nGli elementi che possono avere metodi sono variabili complesse (come le liste) o i cosiddetti moduli (che vedremo tra un po').\n\nI primi esempi di metodo sono le funzioni matematiche offerte dal modulo `math`",
      "metadata": {}
    },
    {
      "id": "ff29e870-93df-4d00-b3be-2a69178b01f3",
      "cell_type": "code",
      "source": "import math\nangolo = 1.570796\nc = math.cos(angolo)\nprint(c)",
      "metadata": {
        "trusted": true
      },
      "outputs": [],
      "execution_count": null
    },
    {
      "id": "71c5e349-a454-407f-9064-aefa68e6aa87",
      "cell_type": "markdown",
      "source": "Adesso provate a stampare il seno di `angolo`, senza utilizzare la varibile `c`",
      "metadata": {}
    },
    {
      "id": "fef4cd88-74c7-4b34-b7c3-6c432670416b",
      "cell_type": "code",
      "source": "",
      "metadata": {
        "trusted": true
      },
      "outputs": [],
      "execution_count": null
    },
    {
      "id": "2e8b1586-d4eb-4128-9a21-d0307d231fd5",
      "cell_type": "markdown",
      "source": "## Inserimento da tastiera",
      "metadata": {}
    },
    {
      "id": "160c01b4-d2d5-4836-be44-bb5022236214",
      "cell_type": "markdown",
      "source": "I programmi devono poter essere utilizzati per processare dati diversi, che possono cambiare da esecuzione ad esecuzione.\\\nL'interprete Python permette di immettere dati da processare e di mettere in uscita i risultati, attraverso funzioni e metodi di **input/output**\n\nIl modo più semplice per inserire dati in un programma è con la tastiera, mediante la funzione `input(stringa)` che accetta come parametro una stringa, utilizzata come **messaggio di richiesta**, e restituisce una stringa contenente i caratteri digitati sulla tastiera.\n\n**SOLO in JupyterLite**, questa funzione ha questa forma `await input(stringa)`\n\nProvate a scrivere un programma che chiede di inserire il nome di una città e poi scrive una frase su quella città:",
      "metadata": {}
    },
    {
      "id": "773c7bd6-b3f9-4935-b11f-8a92d65c04c1",
      "cell_type": "code",
      "source": "",
      "metadata": {
        "trusted": true
      },
      "outputs": [],
      "execution_count": null
    },
    {
      "id": "982f656c-71fa-4007-b0c0-a7702fe1314b",
      "cell_type": "markdown",
      "source": "Le funzioni `input(...)` o `await input(...)` ritornano sempre una stringa, ma molto spesso servono anche inserimenti numerici.\\\nPer questo ci aiutano le funzioni `int(stringa)` e `float(stringa)` che convertono le stringhe in numeri interi o numeri con la virgola.\n\nProvate a scrivere un programma che accetta dalla tastiera due numeri e stampi il maggiore tra i due con la frase: \"il valore maggiore è...\"",
      "metadata": {}
    },
    {
      "id": "bffc450a-afc6-402e-96fe-6532b15ee23b",
      "cell_type": "code",
      "source": "",
      "metadata": {
        "trusted": true
      },
      "outputs": [],
      "execution_count": null
    },
    {
      "id": "f7454123-fe16-4802-b5d4-cff5e4107bc6",
      "cell_type": "markdown",
      "source": "Attenzione: se la conversione non è possibile, l'interprete non mancherà di farvelo capire!\n\nE' possibile utilizzare la funzione `input(stringa)` anche per inserire liste di valori.\\\nPer far questo, è necessario utilizzare la funzione `split(stringa, carattere)` che ritorna una lista di stringhe ottenuta dal primo argomento, spezzettandolo nelle posizioni indicate dal carattere separatore\n\nProvate a scrivere un programma accetta una sequenza di nomi separati da virgole e poi stampi l'ultimo dei nomi inseriti e poi la lunghezza della sequenza:\n(la ricordate la funzione che ritorna la lunghezza di una lista?)",
      "metadata": {}
    },
    {
      "id": "86f70a85-717d-47d1-9145-887b1d3fc919",
      "cell_type": "code",
      "source": "",
      "metadata": {
        "trusted": true
      },
      "outputs": [],
      "execution_count": null
    },
    {
      "id": "f30b2581-eaf6-41b5-a9cd-1fd7a157ebe3",
      "cell_type": "markdown",
      "source": "Piccolo suggerimento, per i perfezionisti: esiste la funzione `strip(stringa)` che ritorna una stringa ottenuta dalla prima eliminando eventuali spazi iniziali e finali. Volete provare??",
      "metadata": {}
    },
    {
      "id": "d6d849f5-7236-46d6-8b97-6aa5aefe7ec3",
      "cell_type": "markdown",
      "source": "## Programma sfida\nUtilizziamo subito la funzione di inserimento da tastiera per risolvere questo programma-sfida:\\\nScrivete un programma che legge da tastiera 4 nomi (da una singolo input in una cella dedicata) e poi 4 età (da un singolo input in una cella dedicata).\\\nPoi fa la verifica di ciascuna delle 4 età e, se è minore di 18 anni, stampa il relativo nome seguito da “ minore”.",
      "metadata": {}
    },
    {
      "id": "b6681335-78d8-45ad-bf28-bd48c4f880e7",
      "cell_type": "code",
      "source": "",
      "metadata": {
        "trusted": true
      },
      "outputs": [],
      "execution_count": null
    }
  ]
}
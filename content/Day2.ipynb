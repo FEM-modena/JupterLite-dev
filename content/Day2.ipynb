{
  "metadata": {
    "kernelspec": {
      "name": "python",
      "display_name": "Python (Pyodide)",
      "language": "python"
    },
    "language_info": {
      "codemirror_mode": {
        "name": "python",
        "version": 3
      },
      "file_extension": ".py",
      "mimetype": "text/x-python",
      "name": "python",
      "nbconvert_exporter": "python",
      "pygments_lexer": "ipython3",
      "version": "3.8"
    }
  },
  "nbformat_minor": 5,
  "nbformat": 4,
  "cells": [
    {
      "id": "2bc36778-6a55-4b26-94cc-54fce26c3de2",
      "cell_type": "markdown",
      "source": "# Day 2 - Dati e Luoghi - Le Liste",
      "metadata": {}
    },
    {
      "id": "840630f9-a85b-4032-b1dd-e5d2e8557bd4",
      "cell_type": "markdown",
      "source": "Per iniziare il nostro progetto di reportistica dello stato ambientale della nostra città, utilizzeremo un tipo di __variabile strutturata__ o __oggetto__ : le __Liste__\nLe liste sono sequenze di valori dello stesso tipo o di tipo diverso, denominati __elementi__\nGli elementi sono numerati dallo __0__ fino alla __lunghezza-della-lista-meno-1__ ed il numero associato a ciascun elemento è detto __indice__ dell'elemento nella lista.\n\nUtilizzate la barra dei pulsanti qui sopra per creare nuove celle. Per salvare le modifiche ad una cella raw potete usare `SHIFT-ENTER`.\\\nEsistono anche le scorciatoie di tastiera 'a' e 'b' per aggiungere celle sopora e sotto quella selezionata\n\nSe avete creato una cella di codice, la sequenza SHIFT-ENTER chiede all'Interprete Python di eseguire il comando scritto la cella.\n\n---",
      "metadata": {}
    },
    {
      "id": "b3e30f4c-1b4a-4c6b-b33a-54cbc68b588a",
      "cell_type": "markdown",
      "source": "## Gli elementi delle liste",
      "metadata": {}
    },
    {
      "id": "724e7008-9055-4d1f-82bd-5bef6c89d14f",
      "cell_type": "markdown",
      "source": "Definiamo queste liste:\n```\nd = [7, 44, 23, 8]\ngruppo = [’gio’, ‘ale’, ‘gaia’, ‘miki’]\ntemperature = [23.1, 11.3, 30.2, 34.8]\n```\n\noppure altre liste, a vostro gusto!\nAggiungete una o più celle di codice qui sotto e valorizzate le vostre liste",
      "metadata": {}
    },
    {
      "id": "e7eff106-e58d-4ed2-8efe-fe589e4d1b8e",
      "cell_type": "code",
      "source": "",
      "metadata": {
        "trusted": true
      },
      "outputs": [],
      "execution_count": null
    },
    {
      "id": "364d4480-f928-4d60-b830-6b6905fd31d8",
      "cell_type": "markdown",
      "source": "Adesso facciamoci stampare dall'interprete Python i valori degli elementi delle liste che avete definito:\n```\nd[1]\na = d[0] + 4\ntemperature[3]\ngruppo[4]\n```",
      "metadata": {}
    },
    {
      "id": "7cb8013e-25e3-4c0e-bb2b-b9d467e28b7d",
      "cell_type": "code",
      "source": "",
      "metadata": {
        "trusted": true
      },
      "outputs": [],
      "execution_count": null
    },
    {
      "id": "41cf25b5-80c3-4328-8f61-8f1b165e05f4",
      "cell_type": "markdown",
      "source": "E' andato tutto bene??\\\n\\\nAdesso costruiamo liste vuote o con valori di tipo diverso:\n```\nl = []\ndati = [7, “Modena”, 23.1, 99]\n```\nOppure liste che utilizzano variabili semplici come elementi\n```\npeso = 100\ncitta = “Modena”\ndati = [peso, citta, 11, 99.2]\n```\nQuali valori contieme `dati` adesso?? Provate!",
      "metadata": {}
    },
    {
      "id": "74649be2-15a2-4977-9feb-8c147f4ab4b5",
      "cell_type": "code",
      "source": "",
      "metadata": {
        "trusted": true
      },
      "outputs": [],
      "execution_count": null
    },
    {
      "id": "650cf120-c0f4-45c7-91c9-5120c54c26c6",
      "cell_type": "markdown",
      "source": "Proviamo anche la *Regola del valore istantaneo*.\n```\npeso = 50\n```\nChe valori contiene `dati` adesso? Provate, e provate anche altre modifiche...",
      "metadata": {}
    },
    {
      "id": "607f213b-f9d9-45c7-8a72-e465c1d651c9",
      "cell_type": "code",
      "source": "",
      "metadata": {
        "trusted": true
      },
      "outputs": [],
      "execution_count": null
    },
    {
      "id": "217421f5-7c33-4abf-8c49-9af91d1040a9",
      "cell_type": "markdown",
      "source": "Un elemento di una lista puà essere a sua volta una lista\n```\ndati = [500, “Modena”, 99.2]\nnums = [1, 12.1, 100]\ndati[2] = nums\ndati\n```\nCome si presenterà `dati` alla fine? Provate",
      "metadata": {}
    },
    {
      "id": "4b536250-d809-4227-bc8e-5114e1a58f65",
      "cell_type": "code",
      "source": "",
      "metadata": {
        "trusted": true
      },
      "outputs": [],
      "execution_count": null
    },
    {
      "id": "36eeaf1b-f8a6-442b-876f-fc0b1225cdf6",
      "cell_type": "markdown",
      "source": "Scopriamo la lunghezza di una lista con la funzione `len()`\\\nStampate la lunghezza di una delle liste definite qui sopra:",
      "metadata": {}
    },
    {
      "id": "7b260bcb-7066-4482-8acd-e0dc4c3eb0f0",
      "cell_type": "code",
      "source": "",
      "metadata": {
        "trusted": true
      },
      "outputs": [],
      "execution_count": null
    },
    {
      "id": "a1f2cce1-5a5a-44c2-89b5-2a858bd7c5d7",
      "cell_type": "markdown",
      "source": "---",
      "metadata": {}
    },
    {
      "id": "4133cf79-7d3f-47f6-8553-fcd99f5ce4ff",
      "cell_type": "markdown",
      "source": "Le liste possono utilizzare gli operatori __+__ e __*__.  Vediamo cosa succede<br/>\n```\ndati = [500, “Modena”, 99.2]\nt = dati * 3\nnums = [1, 12.1, 100]\nss = dati + nums\n```\nStampate gli elementi di `t` e `ss`",
      "metadata": {}
    },
    {
      "id": "d6615265-849f-41a0-a94c-0fb908d20eb9",
      "cell_type": "code",
      "source": "",
      "metadata": {
        "trusted": true
      },
      "outputs": [],
      "execution_count": null
    },
    {
      "id": "0bcd8293-c85b-44d5-91cd-464b5e791088",
      "cell_type": "markdown",
      "source": "Fate anche altre operazioni tra liste...",
      "metadata": {}
    },
    {
      "id": "a339ab6e-4052-480c-af3b-742c6195c000",
      "cell_type": "code",
      "source": "",
      "metadata": {
        "trusted": true
      },
      "outputs": [],
      "execution_count": null
    },
    {
      "id": "795c3997-8a18-460a-ad64-97846f35e9bc",
      "cell_type": "markdown",
      "source": "Proviamo questa sequenza di comandi:\n```\na = [5, 1.1, 39, 8]\nb = [1, 7]\nc = a + b\nb[1] = 1000\nc\n```\nProvate ad indovinare il valore di `c` alla fine della sequenza. Indovinato? Provate!",
      "metadata": {}
    },
    {
      "id": "76a37251-8bf9-4611-8a47-06b782c3f198",
      "cell_type": "code",
      "source": "",
      "metadata": {
        "trusted": true
      },
      "outputs": [],
      "execution_count": null
    },
    {
      "id": "e17ff26b-342b-4e9b-a515-95a3e53ef1e0",
      "cell_type": "markdown",
      "source": "## Manipolazione delle liste",
      "metadata": {}
    },
    {
      "id": "075862fb-3344-42bd-a269-f1593c870b5a",
      "cell_type": "markdown",
      "source": "Le liste sono sequenze **mutabili** il che vuol dire che è possibile modificarne i singoli elementi.\\\nProviamo a fare modifiche agli elementi di una lista, come ad esempio:\n```\ndati[1] = “Bologna”\n```\nFate anche altre modifiche `dati` e poi visualizzate i suoi elementi.",
      "metadata": {}
    },
    {
      "id": "65023e13-0341-4937-b0b8-5b07d2874ba7",
      "cell_type": "code",
      "source": "",
      "metadata": {
        "trusted": true
      },
      "outputs": [],
      "execution_count": null
    },
    {
      "id": "da536eba-6e64-4b05-8205-0b164fced343",
      "cell_type": "markdown",
      "source": "Lo **slicing** restituisce una _sotto-lista_ da una lista di partenza\n```\nnums = [5, 11, 20, 18, 499, 12]\nnums[1:3]\nnums[2:4] = [3, “cane”, 1.11]\n```\nQuali saranno gli elementi di `nums`? Provate!",
      "metadata": {}
    },
    {
      "id": "c193ee1f-822f-4082-b78f-6a88db55011a",
      "cell_type": "code",
      "source": "",
      "metadata": {
        "trusted": true
      },
      "outputs": [],
      "execution_count": null
    },
    {
      "id": "890ae146-6a67-4067-9958-72e1707a9565",
      "cell_type": "markdown",
      "source": "Alcuni slicing prendono l'inizio o la fine di una lista.\n```\nnums[:3]\nnums[4:]\nnums[:]\n```\nVediamo cosa fanno:",
      "metadata": {}
    },
    {
      "id": "f024974d-c966-45cc-8a1c-d06775ea8372",
      "cell_type": "code",
      "source": "",
      "metadata": {
        "trusted": true
      },
      "outputs": [],
      "execution_count": null
    },
    {
      "id": "f600c480-3259-4b2c-af06-5c4f84a47205",
      "cell_type": "markdown",
      "source": "---",
      "metadata": {
        "jp-MarkdownHeadingCollapsed": true
      }
    },
    {
      "id": "3ffb0eb4-8399-45ca-b87e-16f469bde17f",
      "cell_type": "markdown",
      "source": "## Le variabili lista sono Riferiementi!",
      "metadata": {}
    },
    {
      "id": "89eb6da1-e125-4148-b7a1-37acb8d6c6ae",
      "cell_type": "markdown",
      "source": "Le memorie associate alle variabili lista sono in realtà **riferimenti** all'elemento iniziale della lista.\\\nQuesto avviene per motivi di efficienza di utilizzo della memoria da parte dei programmi Python\\\n\\\nDefiniamo alcune liste e poi assegnamo le liste a nuove variabili, un po' come questo esempui qui sotto\n```\nl = [1, 3, 8, 4, 10]\nw = l\n```\n...e poi vediamo i valori di tutte le variabili che abbiamo creato:",
      "metadata": {}
    },
    {
      "id": "9f82d69b-4d05-4e62-a04a-1aa3ee4b8877",
      "cell_type": "code",
      "source": "",
      "metadata": {
        "trusted": true
      },
      "outputs": [],
      "execution_count": null
    },
    {
      "id": "4af289c5-6e41-48d5-a50e-533541134771",
      "cell_type": "markdown",
      "source": "**ATTENZIONE**: La condivisione del riferimento fa si che le modifiche ad `w` modificheranno anche `l`.\\\nQuesto capita **SOLO** per tutte le variabili strutturate, non per quelle semplici, per le quali vale sempre la *Regola del valore istantaneo*.\\\nFate qualche prova:\n```\nw[2] = 100\n\n```\nAdesso vediamo gli elementi di `l`: quali saranno??",
      "metadata": {}
    },
    {
      "id": "595a8f41-04a9-43a8-9e89-268a51aad573",
      "cell_type": "code",
      "source": "",
      "metadata": {
        "trusted": true
      },
      "outputs": [],
      "execution_count": null
    },
    {
      "id": "b03570e0-b601-4893-bbf7-f9cb00ad0820",
      "cell_type": "markdown",
      "source": "Lo _slicing_ invece, operando sui singoli elementi della lista, non utilizzano i riferimenti ma **copiano** il risultato in **nuove** liste.\\\nProviamo questi slicing:\n```\nss = l[:]\nzz = l[2:]\n```\nvediamo gli elementi di `ss` e `zz`",
      "metadata": {}
    },
    {
      "id": "c353905a-263a-47fd-a53d-9115374bdc6a",
      "cell_type": "code",
      "source": "",
      "metadata": {
        "trusted": true
      },
      "outputs": [],
      "execution_count": null
    },
    {
      "id": "450f5d4a-bddf-4670-868b-b193cdf45784",
      "cell_type": "markdown",
      "source": "Ora modifichiamo qualche elemento di `ss` o `zz` \n```\nss[1] = 400\nzz[0] = 44\n```\ne vediamo se `l` è cambiata...",
      "metadata": {}
    },
    {
      "id": "add583ac-ea9a-42a1-b003-47210715c8be",
      "cell_type": "code",
      "source": "",
      "metadata": {
        "trusted": true
      },
      "outputs": [],
      "execution_count": null
    }
  ]
}
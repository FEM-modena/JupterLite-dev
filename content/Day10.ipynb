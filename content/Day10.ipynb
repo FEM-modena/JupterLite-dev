{
  "metadata": {
    "kernelspec": {
      "name": "python",
      "display_name": "Python (Pyodide)",
      "language": "python"
    },
    "language_info": {
      "codemirror_mode": {
        "name": "python",
        "version": 3
      },
      "file_extension": ".py",
      "mimetype": "text/x-python",
      "name": "python",
      "nbconvert_exporter": "python",
      "pygments_lexer": "ipython3",
      "version": "3.8"
    }
  },
  "nbformat_minor": 5,
  "nbformat": 4,
  "cells": [
    {
      "id": "2bc36778-6a55-4b26-94cc-54fce26c3de2",
      "cell_type": "markdown",
      "source": "# Day 10 - ...ma facciamolo bene!",
      "metadata": {}
    },
    {
      "id": "b3e30f4c-1b4a-4c6b-b33a-54cbc68b588a",
      "cell_type": "markdown",
      "source": "## Visibilità della tabella dei simboli",
      "metadata": {}
    },
    {
      "id": "724e7008-9055-4d1f-82bd-5bef6c89d14f",
      "cell_type": "markdown",
      "source": "Le funzioni sono molto utili per rendere i programmi molto efficienti, ma possono introdurre dei **trabocchetti**\n\nL'interprete Python deve tradurre ogni nome (o simbolo) in un indirizzo di memoria che contiene o il valore o il codice da eseguire nel cao delle funzioni.\nPer far questo, genera e gestisce un certo numero di **tabelle dei simboli** che fanno corrispondere ad ogni nome (variabile) l'indirizzo della memoria che contiene il suo valore\n\nI nomi, o simboli, servono per refernziare:\n- **variabili**\n- **funzioni**\n- gli **argomenti delle funzioni**\n- classi (ne parleremo in futuro)\n\nVediamo un primo esempio. Cosa verrà stampato?",
      "metadata": {}
    },
    {
      "id": "9b533750-0d5a-49f8-981c-85f374adac38",
      "cell_type": "code",
      "source": "a = 0\ndef prodotto(n, m):\n    a = n * m\n    return a\n\nx = 5\ny = 6\n# completate l'esempio da qui",
      "metadata": {
        "trusted": true
      },
      "outputs": [],
      "execution_count": 1
    },
    {
      "id": "6fc5ce55-6460-4890-bf80-0ed1eae806df",
      "cell_type": "markdown",
      "source": "Vediamo quest'altro esempio. Cosa verrà stampato?",
      "metadata": {}
    },
    {
      "id": "9fad97bd-55e9-4123-9ac4-ea0e502e3bdc",
      "cell_type": "code",
      "source": "def area_cerchio(r):\n    pi = 3.14\n    a = r * r * pi\n    return a\n\nraggio = 2\n# completate l'esempio da qui",
      "metadata": {
        "trusted": true
      },
      "outputs": [],
      "execution_count": 2
    },
    {
      "id": "dcf3bffb-9696-4c82-87fe-c23bf214c633",
      "cell_type": "markdown",
      "source": "Questi esempi vi hanno mostrato l'esistenza della tabella dei simboli\\\n\nVediamo qualcosa di più complicato...",
      "metadata": {}
    },
    {
      "id": "e37dd009-74eb-4a3f-9777-abbb4c36a76f",
      "cell_type": "code",
      "source": "h = 2\ndef somma(a, b):\n    print(\"h in somma:\", h)\n    s = a + b + h\n    return (s)\n\ndef oper(x):\n    h = somma(x, 2)\n    print(\"h in oper:\", h)\n    \n# completate l'esempio da qui",
      "metadata": {
        "trusted": true,
        "scrolled": true
      },
      "outputs": [],
      "execution_count": null
    },
    {
      "id": "eb424cfe-821c-4f53-bc4d-1bc29086d6b1",
      "cell_type": "markdown",
      "source": "Le tabelle delle funzioni sono consultate in modo stratificato, partendo da quella più vicina su fino a quella del programma principale.\\\nAd ogni chiamata, la funzione crea una nuova tabella dei simboli che popolerà man mano che i nomi sono definiti al suo interno\n\nI simboli di una tabella genearata in una funzione sono detti **simboli (o variabili) locali**.\n\nI simboli definiti dal programma principale sono detti **simboli (o variabili) globali**.\\\nLe variabili globali hanno la possibilità di essere modificate anche dentro alle funzioni, utilizzando la parola chiave `global`.\n\nVediamo l'esempio di prima, modificando la variabile globale `h` dentro alla funzione `oper()`",
      "metadata": {}
    },
    {
      "id": "16f40424-206d-43f6-a9a8-197af40ef3a6",
      "cell_type": "code",
      "source": "h = 2\ndef somma(a, b):\n    print(\"h in somma:\", h)\n    s = a + b + h\n    return (s)\n\ndef oper(x):\n    global h\n    h = somma(x, 2)\n    print(\"h in oper:\", h)\n    \n# completate l'esempio da qui",
      "metadata": {
        "trusted": true,
        "scrolled": true
      },
      "outputs": [],
      "execution_count": null
    },
    {
      "id": "9724688c-6fc8-48c3-b56c-a6a8eb8fe3d1",
      "cell_type": "markdown",
      "source": "## Argomenti predefinti\n\nE' possibile definire funzioni che assegnano ad alcuni parametri un valore predefinito in modo da non doverlo necessariamente passare quando la funzione viene richiamata.\\\nQuesto è comodo quando uno degli argomenti assume un valore preciso nella grande maggioranza dei casi.\n\nVediamo questo esempio",
      "metadata": {}
    },
    {
      "id": "93e37510-2e0b-4cbf-a484-2590eca3c9d8",
      "cell_type": "code",
      "source": "def cambia_in_euro(x, cambio = 1): \n    return (x * cambio)\n    \ndollari = 100\nprint(cambia_in_euro(dollari, 1.05))\n# completate l'esempio con le ultime 2 righe\n",
      "metadata": {
        "trusted": true
      },
      "outputs": [
        {
          "name": "stdout",
          "text": "105.0\n",
          "output_type": "stream"
        }
      ],
      "execution_count": 10
    },
    {
      "id": "89935a9c-9989-4c54-a77a-f72bdc927dd5",
      "cell_type": "markdown",
      "source": "## Numero imprecisato di argomenti\n\nEsiste anche la possibilità di definire funzioni che accettano un numero non fisso di argomenti.\nQuesto è comodo quando la funzione compie azioni ripetitive su un numero di valori che può cambiare di volta in volta.\n\nVediamo questo esempio",
      "metadata": {}
    },
    {
      "id": "ae3e2bc9-bd39-43bf-910f-ccca20ab4ff2",
      "cell_type": "code",
      "source": "def stampa_tutto(titolo, *frasi): \n    print(titolo)\n    for f in frasi:\n        print(\"> \", f)\n    \n# completate l'esempio con le ultime 2 righe\n",
      "metadata": {
        "trusted": true,
        "scrolled": true
      },
      "outputs": [],
      "execution_count": null
    },
    {
      "id": "2da2864e-a851-4bcc-bfaf-e64aa21560da",
      "cell_type": "markdown",
      "source": "I valori in numero indefinito sono passati in una funzione in una **tupla** a riprova del fatto che quei parametri sono solo di input e non possono essere modificati.",
      "metadata": {}
    },
    {
      "id": "41b74c6f-dda1-49ad-9632-08f3c19d03ec",
      "cell_type": "code",
      "source": "",
      "metadata": {
        "trusted": true
      },
      "outputs": [],
      "execution_count": null
    }
  ]
}
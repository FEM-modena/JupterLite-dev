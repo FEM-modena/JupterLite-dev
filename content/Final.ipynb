{
  "metadata": {
    "kernelspec": {
      "name": "python",
      "display_name": "Python (Pyodide)",
      "language": "python"
    },
    "language_info": {
      "codemirror_mode": {
        "name": "python",
        "version": 3
      },
      "file_extension": ".py",
      "mimetype": "text/x-python",
      "name": "python",
      "nbconvert_exporter": "python",
      "pygments_lexer": "ipython3",
      "version": "3.8"
    }
  },
  "nbformat_minor": 4,
  "nbformat": 4,
  "cells": [
    {
      "cell_type": "markdown",
      "source": "# I report finali per la chiusura del progetto\n\nE’ arrivato il momento di dare informazioni concrete al nostro finanziatore!\n\nIl tema di maggiore interesse è la **qualità dell’aria nella nostra città** e, più precisamente:\n- L’**incidenza del particolato** nella vita quotidiana\n- L’**ozono** a Modena\n- L’**inquinamento** della mobilità in generale\n- **Dettaglio degli inquinanti** della mobilità\n\nI dati li abbiamo ottenuti dall'ARPA-Emilia e sono qui\n\n[**Particolato PM10 a Modena Gennaio-Marzo 2025**](https://tech.agilioty.com/Day14/Modena_PM10-3mesi.csv)\\\n[**Inquinanti al Parco Ferrari Marzo 2025**](https://tech.agilioty.com/Day14/PFerrari_o3_no2_no.csv)\n\n\n\n## Importazioni iniziali\n\nImportiamo i moduli che serviranno per questa costruzione",
      "metadata": {}
    },
    {
      "cell_type": "code",
      "source": "from matplotlib import pyplot as plt\nimport csv",
      "metadata": {
        "trusted": true
      },
      "outputs": [],
      "execution_count": 2
    },
    {
      "cell_type": "markdown",
      "source": "## L'incidenza del particolato\n\nUtilizzando i dati del file delle misurazioni **Modena_PM10-3mesi.csv**, e considerando il limite massimo giornaliero di **40 ppm**, costruire il grafico a torta con 4 conteggi:\n- Conteggio dei campioni in cui sia **ParcoFerrari che Via Giardini erano SOPRA** il limite\n- Conteggio dei campioni in cui solo **ParcoFerrari era sopra il limite\n- Conteggio dei campioni in cui solo Via Giardini era sopra il limite\n- Conteggio dei campioni in cui sia ParcoFerrari che Via Giardini erano SOPRA il limite",
      "metadata": {}
    },
    {
      "cell_type": "code",
      "source": "limite = 40\n\nentrambi_sopra = 0\npferrari_sopra = 0\ngiardini_sopra = 0\nnessuno_sopra = 0\n\n# Completiamo qui ...\n\nvalori_pm10 = [nessuno_sopra, pferrari_sopra, giardini_sopra, entrambi_sopra]\nstazioni_pm10 = ['Nessuna', 'Parco Ferrari', 'Via Giardini', 'Entrambe']\ncolori_pm10 = ['green', 'orange', 'yellow', 'red']\n\nfig, ax = plt.subplots()\nfig.set_size_inches(10.0, 10.0)\nax.pie(valori_pm10, labels=stazioni_pm10, colors=colori_pm10, autopct='%1.1f%%')\nplt.title(\"Frequenza superamento limite PM10 a Modena\")\nplt.show()\n",
      "metadata": {
        "trusted": true
      },
      "outputs": [],
      "execution_count": null
    },
    {
      "cell_type": "markdown",
      "source": "## L'Ozono a Modena\n\nUtilizzando i dati di **PFerrari_o3_no2_no.csv** e considerando il limite per l'ozono di 80 μg/L, costruire il grafico a barre dei valori dell’OZONO e colorare di rosso i campioni che superano il limite",
      "metadata": {}
    },
    {
      "cell_type": "code",
      "source": "limite_ozono = 80\n\norario_ozono = []\nvalori_ozono = []\ncolori_ozono = []\n\n# completiamo qui...\n\nfig, ax = plt.subplots()\nfig.set_size_inches(15.0, 10.0)\nax.bar(orario_ozono, valori_ozono, color=colori_ozono)\nax.set_xticks([])\nax.set_title(\"OZONO Marzo 2025\")\nplt.show()",
      "metadata": {
        "trusted": true
      },
      "outputs": [],
      "execution_count": null
    },
    {
      "cell_type": "markdown",
      "source": "## Inquinamento della mobilità\n\nUtilizzando i dati di **PFerrari_o3_no2_no.csv**, costruire il grafico cumulativo dei tre inquinanti **ozono**, **NO2** ed **NO** monitorati nei primi 3 mesi dell'anno",
      "metadata": {}
    },
    {
      "cell_type": "code",
      "source": "misure_ozono = []\nmisure_no2 = []\nmisure_no = []\norari = []\ncolori_stack = ['red', 'green', 'blue']\n\n# completiamo qui\n\nfig, ax = plt.subplots()\nfig.set_size_inches(15.0, 10.0)\nax.stackplot(orari, misure, labels=inquinanti, colors=colori_stack)\nax.set_title('Presenza cumulativa inquinanti')\nax.set_xlabel('Orario')\nax.set_ylabel('Inquinanti')\nplt.show()",
      "metadata": {
        "trusted": true
      },
      "outputs": [],
      "execution_count": null
    },
    {
      "cell_type": "markdown",
      "source": "## Dettaglio degli inquinanti\n\nUtilizzando i dati di **PFerrari_o3_no2_no.csv**, visualizzare in un unico grafico 3d i 3 barchart dei valori di OZONO, NO2 e NO monitorati nei primi 3 mesi dell'anno",
      "metadata": {}
    },
    {
      "cell_type": "code",
      "source": "yticks = [0, 1, 2]\nsequenze = ['OZONO', 'NO2', 'NO']\n\n# Dobbiamo fare qualcosa ???\n\nfig = plt.figure()\nfig.set_size_inches(10, 10)\nax = fig.add_subplot(projection='3d')\nax.bar(orari, misure_ozono, zs=0, zdir='y', color='r', alpha=0.8)\nax.bar(orari, misure_no2, zs=1, zdir='y', color='g', alpha=0.8)\nax.bar(orari, misure_no, zs=2, zdir='y', color='b', alpha=0.8)\nax.set_xlabel('orari')\nax.set_ylabel('misure')\nax.set_zlabel('valori')\nax.set_yticks(yticks, labels=sequenze)\nax.set_xticks([])\nplt.show()",
      "metadata": {
        "trusted": true
      },
      "outputs": [],
      "execution_count": null
    },
    {
      "cell_type": "markdown",
      "source": "## Complimenti\n\nAvete completato con successo il vostro task!",
      "metadata": {}
    },
    {
      "cell_type": "code",
      "source": "",
      "metadata": {
        "trusted": true
      },
      "outputs": [],
      "execution_count": null
    }
  ]
}
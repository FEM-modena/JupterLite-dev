{
  "metadata": {
    "kernelspec": {
      "name": "python",
      "display_name": "Python (Pyodide)",
      "language": "python"
    },
    "language_info": {
      "codemirror_mode": {
        "name": "python",
        "version": 3
      },
      "file_extension": ".py",
      "mimetype": "text/x-python",
      "name": "python",
      "nbconvert_exporter": "python",
      "pygments_lexer": "ipython3",
      "version": "3.8"
    }
  },
  "nbformat_minor": 4,
  "nbformat": 4,
  "cells": [
    {
      "cell_type": "markdown",
      "source": "# Attività di progetto 2",
      "metadata": {}
    },
    {
      "cell_type": "markdown",
      "source": "## Analisi condizionale",
      "metadata": {}
    },
    {
      "cell_type": "markdown",
      "source": "Nella scorsa attività di progetto abbiamo caricato il file CSV \"Modena.csv\" con i dati identificativi delle postazioni di monitoraggio dell'aria della provincia di Modena.\\\nIl file ottenuto è presente nella cartella di lavoro di JupyterLite.\n\nAbbiamo potuto caricare a mano questi dati perché erano solo 6 postazioni.\\\nPer archivi di dati più corposi ovviamente è necessario utilizzare strumenti di caricamento e lettura automatizzati.\n\nIl file **monitoraggio1.csv** è una serie di misurazioni della concentrazione del particolato atmosferico rilevato dalla centralina del Parco Ferrari il giorno 2 novembre scorso.\n\nQuando abbiamo caricato il file \"Modena.csv\" abbiamo creato una **lista i cui elementi erano liste** (lista di liste): ciascun elemento (lista) è stato trasformato in una riga del file .csv dal programma di caricamento qui sotto (non lo eseguite, perché vi darà un errore...)",
      "metadata": {}
    },
    {
      "cell_type": "code",
      "source": "import csv\nwith open('Modena.csv', 'w', newline='') as f:\n    writer = csv.writer(f)\n    writer.writerow([\"nome_stazione\", \"codice\", \"comune\", \"indirizzo\", \"prov\", \"altezza\", \"coord_x\", \"coord_y\"])\n    writer.writerows(dati_ambiente)",
      "metadata": {
        "trusted": true
      },
      "outputs": [],
      "execution_count": null
    },
    {
      "cell_type": "markdown",
      "source": "Esattamente come per la creazione, possiamo utilizzare un programma Python che legge un file .CSV e carica il suo contenuto in una lista di liste.\\\nAllora possiamo caricare il file **monitoraggio1.csv** in una lista di liste.\\\nAnche per questa volta il programma di caricamento è già pronto per facilitare le cose, nella cella chiamata **LETTURA CSV**\n\n---",
      "metadata": {}
    },
    {
      "cell_type": "markdown",
      "source": "## LETTURA CSV",
      "metadata": {}
    },
    {
      "cell_type": "code",
      "source": "import csv\nnumero_riga=70\nwith open('ParcoFerrari-PM10.csv', 'r', newline='') as f:\n    reader = csv.reader(f, delimiter=',', quoting=csv.QUOTE_NONNUMERIC)\n    dati = list(reader)\n    riga_da_analizzare = dati[numero_riga+1]",
      "metadata": {
        "trusted": true,
        "scrolled": true
      },
      "outputs": [],
      "execution_count": null
    },
    {
      "cell_type": "code",
      "source": "riga_da_analizzare",
      "metadata": {
        "trusted": true
      },
      "outputs": [],
      "execution_count": null
    },
    {
      "cell_type": "markdown",
      "source": "Il programma qua sopra legge un numero di righe pari a `numero_riga+1` e mette nella variabile `riga_da_analizzare` la riga del file CSV alla posizione **numero_riga**\\\nQualcuno vuol dire perché abbiamo dovuto mettere `numero_riga+1` ?\n\nAdesso possiamo utilizzare un comando condizionale **if-else** per giudicare se la lettura è sopra o sotto un valore accettabile di particolato.\n\n### cosa possiamo fare?\n\nLavoreremo nella cella Python **LETTURA CSV**:\n1. Definiamo un valore limite ed assegnamolo ad una variabile `valore_limite`\n2. Ricerchiamo nel file CSV una riga e guardiamo il valore nella QUINTA colonna **value** (= ricordate che gli indici iniziano da 0...)\n3. Diamo il valore a `numero_riga` in modo che indichi alla riga del CSV che abbiamo individuato\n4. Aggiungiamo alla fine della cella Python un **comando if-else** che, se il **PM-10** supera il `valore_limite` stampi \"OK\" altrimenti stampi \"ATTENZIONE!\"\n5. Attiviamo la cella e vediamo cosa succede!",
      "metadata": {}
    },
    {
      "cell_type": "code",
      "source": "",
      "metadata": {
        "trusted": true
      },
      "outputs": [],
      "execution_count": null
    }
  ]
}
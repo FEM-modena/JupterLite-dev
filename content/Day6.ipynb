{
  "metadata": {
    "kernelspec": {
      "name": "python",
      "display_name": "Python (Pyodide)",
      "language": "python"
    },
    "language_info": {
      "codemirror_mode": {
        "name": "python",
        "version": 3
      },
      "file_extension": ".py",
      "mimetype": "text/x-python",
      "name": "python",
      "nbconvert_exporter": "python",
      "pygments_lexer": "ipython3",
      "version": "3.8"
    }
  },
  "nbformat_minor": 5,
  "nbformat": 4,
  "cells": [
    {
      "id": "2bc36778-6a55-4b26-94cc-54fce26c3de2",
      "cell_type": "markdown",
      "source": "# Day 6 - C'è un pacchetto!",
      "metadata": {}
    },
    {
      "id": "b3e30f4c-1b4a-4c6b-b33a-54cbc68b588a",
      "cell_type": "markdown",
      "source": "## Architettura modulare di Python",
      "metadata": {}
    },
    {
      "id": "724e7008-9055-4d1f-82bd-5bef6c89d14f",
      "cell_type": "markdown",
      "source": "Il linguaggio Python, nella sua forma essenziale, utilizza l'interprete per eseguire i comandi ed i programmi.\\\nL'interprete fornisce solo alcune funzionalità fondamentali come i **comandi di base**, la **gestione delle variabili**, gli **operatori** e le **funzioni built-in**\n\nMa esistono **migliaia di funzioni e metodi** che si possono **aggiungere** modularmente alle funzionalità fondamentali.\\\nQueste funzioni sono accessibili attraverso i **moduli**.\n\nI moduli possono essere importati e in questo modo diventano *oggetti* che forniscono le loro funzioni attraverso i loro *metodi*.\n\nUn primo modo di utilizzare un modulo è importarlo per intero e poi utilizzare i suoi *metodi*.\\\nPer importare un modulo per intero, si utilizza il comando `import` nella forma:\n\n`import modulo-da-importare`\n\nProviamolo subito. Una delle funzioni del modulo `math` è `log(numero)` : scriviamo insieme un miniprogramma che calcola il logaritmo di 5, dopo aver assegnato il numero 5 ad una variabile:",
      "metadata": {}
    },
    {
      "id": "ac055aee-7df6-4257-b007-9547248016e8",
      "cell_type": "code",
      "source": "",
      "metadata": {
        "trusted": true
      },
      "outputs": [],
      "execution_count": null
    },
    {
      "id": "cda15e8e-ca2d-4b63-bd6d-436efd55f714",
      "cell_type": "markdown",
      "source": "Un altro modo di utilizzare un modulo è quello di importare solo la funzione che ci interessa, con una importazione selettiva.\\\nPer importare solo una certa funzione del modulo, il comando `import` ha questa forma:\n\n`from modulo-da-importare import funzione-da-importare`\n\nUn'altra funzione di `math` è `sqrt(numero)`. Proviamo allora a calcolare la radice quadrata di 2 importando da `math` solo quella:",
      "metadata": {}
    },
    {
      "id": "f6120b98-1819-4445-8e50-d4394d6afe89",
      "cell_type": "code",
      "source": "",
      "metadata": {
        "trusted": true
      },
      "outputs": [],
      "execution_count": null
    },
    {
      "id": "c6936790-b7d3-46d1-9bf5-73687214022f",
      "cell_type": "markdown",
      "source": "## Il modulo Matplotlib\n\nIl modulo **Matplotlib** è una libreria molto potente di **Data Visualization** che permette di costruire grafici di tipo matematico e statistico e visualizzarli immediatamente.\\\nMatplotlib permette di realizzare visualizzazioni di moltissimi tipi dai grafici cartesiani semplici agli istogrammi, grafici a torta, carte tematiche e tutte le combinazioni di questi.\n\nTrattandosi di un modulo **sviluppato dalla community** di Python, Matplotlib deve essere installato nel proprio ambiente e poi importato nei programmi che intendono utilizzarlo.\\\nPer fortuna **JupyterLite pre-installa** questo modulo, perciò l'abbiamo già pronta all'uso.\n\nMatplotlib è così ricco di funzioni da essere stato a sua volta suddiviso in sotto-moduli!\\\nUno di questi sotto-moduli si chiama **pyplot** è permette di tracciare grafici di tipo X - Y di vario tipo.\n\nPyPlot si importa in questo modo\n\n`from matplotlib import pyplot`\n\nUtilizziamolo subito per un vero programma di **Data Visualization**.\n\n## GRAFICO DEL PARTICOLATO\n\nI dati li abbiamo: possiamo **utilizzare i primi 100 valori** del particolato PM10 raccolti nel file **ParcoFerrari-PM10.csv** e fare un grafico temporale dei valori misurati.\\\nCome per la volta precedente, completeremo un programma di cui c'è solo la parte iniziale, quella che legge il file CSV e lo carica nella variabile `dati`.\n\nVi ricordo che `dati` è una **lista composta da righe** di misurazione.\\\n**Ciascuna riga a sua volta è una lista** di campi in cui all'indice 3 c'è la data e all'indice 4 i valori in PPM del particolato.\n\nA proposito: in questa cella abbiamo importato anche un altro modulo: **csv**",
      "metadata": {}
    },
    {
      "id": "ae3e2bc9-bd39-43bf-910f-ccca20ab4ff2",
      "cell_type": "code",
      "source": "import csv\nfrom matplotlib import pyplot\nwith open('ParcoFerrari-PM10.csv', 'r', newline='') as f:\n    reader = csv.reader(f, delimiter=',')\n    dati = list(reader)\n    # AGGIUNGI IL TUO CODICE DA QUI",
      "metadata": {
        "trusted": true
      },
      "outputs": [],
      "execution_count": null
    },
    {
      "id": "7c6af726-b4c4-48bc-bb62-af19df2a0703",
      "cell_type": "markdown",
      "source": "### cosa possiamo fare ?\nNella cella qui sopra aggiungiamo del codice in questo modo:\n\n1. Importiamo il sottomodulo pyplot da matplotlib\n2. Definiamo due array vuoti: **etichette** e **valori**\n3. Con un ciclo dalla riga 1 (saltando la riga 0) alla riga 100, per ogni riga:\n   - alle **etichette** appendiamo le date, cioè il campo di indice 3\n   - ai **valori** appendiamo i valori del particolato, cioè il campo di indice 4, **convertito in float**\n4. Usiamo il metodo `plot(listaX, listaY)` di pyplot per costruire il grafico \n5. Usiamo il metodo `show()` di pyplot per visualizzare il grafico",
      "metadata": {}
    },
    {
      "id": "003b048f-fa6b-44b1-bf83-4645aea3cdce",
      "cell_type": "code",
      "source": "",
      "metadata": {
        "trusted": true
      },
      "outputs": [],
      "execution_count": null
    }
  ]
}
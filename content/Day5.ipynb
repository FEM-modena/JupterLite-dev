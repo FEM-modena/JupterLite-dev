{
  "metadata": {
    "kernelspec": {
      "name": "python",
      "display_name": "Python (Pyodide)",
      "language": "python"
    },
    "language_info": {
      "codemirror_mode": {
        "name": "python",
        "version": 3
      },
      "file_extension": ".py",
      "mimetype": "text/x-python",
      "name": "python",
      "nbconvert_exporter": "python",
      "pygments_lexer": "ipython3",
      "version": "3.8"
    }
  },
  "nbformat_minor": 5,
  "nbformat": 4,
  "cells": [
    {
      "id": "2bc36778-6a55-4b26-94cc-54fce26c3de2",
      "cell_type": "markdown",
      "source": "# Day 5 - Puoi ripetere...?",
      "metadata": {}
    },
    {
      "id": "b3e30f4c-1b4a-4c6b-b33a-54cbc68b588a",
      "cell_type": "markdown",
      "source": "## Generare liste",
      "metadata": {}
    },
    {
      "id": "724e7008-9055-4d1f-82bd-5bef6c89d14f",
      "cell_type": "markdown",
      "source": "Abbiamo già visto il metodo `stringa.split(separatore)` che suddivide una stringa in una lista di stringhe utilizzando il separatore per individuarle\n\nProvate a generare e stampare una lista di elementi qualunque e separatore qualunqe:",
      "metadata": {}
    },
    {
      "id": "e7eff106-e58d-4ed2-8efe-fe589e4d1b8e",
      "cell_type": "code",
      "source": "",
      "metadata": {
        "trusted": true,
        "scrolled": true
      },
      "outputs": [],
      "execution_count": null
    },
    {
      "id": "1b87a407-4a2f-490c-b2b3-4034c6199f33",
      "cell_type": "markdown",
      "source": "Split si può usare anche per inserire una lista: si inserisce l'intero elenco e poi lo si spezza usando il separatore.",
      "metadata": {}
    },
    {
      "id": "73635fa2-c2fd-4a1f-806f-b58e4c78b6f3",
      "cell_type": "code",
      "source": "amici = await input(\"Inserisci i nomi degli amici\")",
      "metadata": {
        "trusted": true
      },
      "outputs": [],
      "execution_count": null
    },
    {
      "id": "e975b58d-b6d8-47db-af7e-fbb2a3ad1308",
      "cell_type": "code",
      "source": "print(amici)",
      "metadata": {
        "trusted": true
      },
      "outputs": [],
      "execution_count": null
    },
    {
      "id": "decac286-682b-4f9b-8d1b-754d0ac0a21b",
      "cell_type": "markdown",
      "source": "### la funzione range()\n\nLa funzione `range()` genera **una lista di numeri**.\\\nHa tre possibili forme:\n\n`numeri = range(stop)` Genera una **lista di numeri da 0 a (stop - 1)**\n\n`numeri = range(start, stop)` Genera una **lista di numeri da start a (stop - 1)**\n\n`numeri = range(start, stop, step)` Genera una **lista di numeri da start a (stop - 1)** incrementando il valore di **step** ad ogni passo\n\nProvate ora a generare qualche lista di numeri con `range()`:\n",
      "metadata": {}
    },
    {
      "id": "ff29e870-93df-4d00-b3be-2a69178b01f3",
      "cell_type": "code",
      "source": "",
      "metadata": {
        "trusted": true
      },
      "outputs": [],
      "execution_count": null
    },
    {
      "id": "2e8b1586-d4eb-4128-9a21-d0307d231fd5",
      "cell_type": "markdown",
      "source": "## Esecuzione ciclica",
      "metadata": {}
    },
    {
      "id": "160c01b4-d2d5-4836-be44-bb5022236214",
      "cell_type": "markdown",
      "source": "Uno dei motivi per cui si ricorre ad un programma è quello di eseguire operazioni ripetitive su grandi quantità di dati.\\\ni file .CSV che abbiamo utilizzato negli scorsi appuntamenti sono un esempio di questi dati molteplici da processare\n\nIn presenza di dati che devono essere **elaborati ad uno ad uno** diventa necessario avere la possibilità di definire un **flusso di esecuzione ciclico**, che ripete un certo blocco un determinato numero di volte\n\nIl primo tipo di esecuzione ciclica è il **ciclo for** che esegue ciclicamente un blocco per ciascun valore di un `range()`.\\\nLa funzione `range(...)` definisce i valori che la variabile del `for` avrà in ciascuna ripetizione.\n\nProvate a scrivere un ciclo che stampa i primi 10 numeri pari:",
      "metadata": {}
    },
    {
      "id": "773c7bd6-b3f9-4935-b11f-8a92d65c04c1",
      "cell_type": "code",
      "source": "",
      "metadata": {
        "trusted": true
      },
      "outputs": [],
      "execution_count": null
    },
    {
      "id": "a4019267-ccd3-444e-9ecb-24262514b582",
      "cell_type": "markdown",
      "source": "Il **ciclo while** invece esegue ciclicamente un blocco finché rimane **vera** una condizione di ripetizione.\\\nIl blocco ripetuto deve fare in modo che, ad un certo punto, la condizione diventi **falsa** provocando l’uscita dal ciclo.\n\nProvate a riscrivere il ciclo che stampa i primi 10 numeri pari ma usando il `while`",
      "metadata": {}
    },
    {
      "id": "3783d167-3fbf-4547-a087-96c8deb6abfc",
      "cell_type": "code",
      "source": "",
      "metadata": {
        "trusted": true
      },
      "outputs": [],
      "execution_count": null
    },
    {
      "id": "ccd06569-9a9b-4e09-b9f9-81af2cb63dc2",
      "cell_type": "markdown",
      "source": "La funzione `range(...)` in effetti genera una **lista** di numeri.\\\nIn realtà il ciclo `for` funziona con qualsiasi tipo di lista: assegna alla variabile, ad uno ad uno nell'ordine, gli elementi della lista ed utilizza tale valore nell'esecuzione del ciclo, finché non arriva alla fine della lista\n\n## Programma sfida\nA questo punto tocca a voi! Utilizziamo tutto quello che abbiamo visto finora e prepariamo un programma che controlla la lunghezza di alcune parole:\\\nDefiniamo una lista di parole come variabile.\nPoi controlla ciascuna parola e se più lunga di 8 caratteri scrive la parola stessa seguita da “più lunga”, altrimenti scrive la parola seguita da “OK”.",
      "metadata": {}
    },
    {
      "id": "dc913261-d2f3-4a1f-8b2c-4bd5674b9a5c",
      "cell_type": "code",
      "source": "",
      "metadata": {
        "trusted": true
      },
      "outputs": [],
      "execution_count": null
    },
    {
      "id": "24669888-7234-4030-be3f-2dae637f7fa0",
      "cell_type": "code",
      "source": "",
      "metadata": {
        "trusted": true
      },
      "outputs": [],
      "execution_count": null
    }
  ]
}
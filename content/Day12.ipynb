{
  "metadata": {
    "kernelspec": {
      "name": "python",
      "display_name": "Python (Pyodide)",
      "language": "python"
    },
    "language_info": {
      "codemirror_mode": {
        "name": "python",
        "version": 3
      },
      "file_extension": ".py",
      "mimetype": "text/x-python",
      "name": "python",
      "nbconvert_exporter": "python",
      "pygments_lexer": "ipython3",
      "version": "3.8"
    }
  },
  "nbformat_minor": 5,
  "nbformat": 4,
  "cells": [
    {
      "id": "2bc36778-6a55-4b26-94cc-54fce26c3de2",
      "cell_type": "markdown",
      "source": "# Day 12 - Salviamo il salvabile",
      "metadata": {}
    },
    {
      "id": "b3e30f4c-1b4a-4c6b-b33a-54cbc68b588a",
      "cell_type": "markdown",
      "source": "## Input & Output su files",
      "metadata": {}
    },
    {
      "id": "724e7008-9055-4d1f-82bd-5bef6c89d14f",
      "cell_type": "markdown",
      "source": "Da sempre qualsiasi sistema di elaborazione ha posto l'esigenza di leggere i dati dall'esterno e scrivere i risultati su qualche supporto fisico esterno.\\\nE' ciò che viene indicato come **Input/Output** o in breve **I/O**.\nCon l' Input/Output viene il concetto di **File**  inteso come contenitore di informazioni memorizzate su un supporto fisico - o accessibile tramite connessione di rete.\n\nI file possono essere:\n- **file testuali** il cui contenuto è destinato ad essere direttamente stampato senza alcuna altra elaborazione\n- **file binari** il cui contenuto sono bytes che dovranno essere processati ulteriormente da qualche applicazione\n\nI bytes dei files vengono trasferiti al programm attraverso gli **stream** di I/O, veri e propri \"tubi\" in cui i bytes arrivano in sequenza dal primo all'ultimo.\n\nCominciamo ad usare le funzioni ed i metodi fondamentali.\\\n\n",
      "metadata": {}
    },
    {
      "id": "9b533750-0d5a-49f8-981c-85f374adac38",
      "cell_type": "code",
      "source": "f = open('frasi.txt','w')\nf.write('scrivo ')\nf.write('in un file')\nf.close()",
      "metadata": {
        "trusted": true
      },
      "outputs": [],
      "execution_count": null
    },
    {
      "id": "a57c7d25-504d-4f3e-a34a-d6b6ae53d13c",
      "cell_type": "code",
      "source": "f = open('frasi.txt','r')\ns = f.read()\nf.close()\nprint(s)",
      "metadata": {
        "trusted": true
      },
      "outputs": [],
      "execution_count": null
    },
    {
      "id": "10e8f84c-9998-4520-bbf8-ec3a64b1766a",
      "cell_type": "markdown",
      "source": "Le chiamate successive a `write()` hanno comunque scritto tutti i caratter senza andare a capo, a differenza di quanto accade in `print(...)`.\\\nUtilizzare il **\"codice di fine linea\"** `\\n` ed il metodo `.writelines()` permette di scrivere linee di testo andando a capo.\\\nQuesta volta pero non usiamo `open()` e `.close()`, ma usiamo il blocco `with`",
      "metadata": {}
    },
    {
      "id": "2b8647de-3869-4d18-b42f-76d533275512",
      "cell_type": "code",
      "source": "testo = ['scrivo\\n','linee\\n','nel file\\n']\nwith open('frasi.txt','w') as f:\n    # completare qui",
      "metadata": {
        "trusted": true
      },
      "outputs": [],
      "execution_count": null
    },
    {
      "id": "64deb402-2bf9-49be-96a0-164581a55dbc",
      "cell_type": "markdown",
      "source": "Rileggiamo il file, adesso",
      "metadata": {}
    },
    {
      "id": "06619f45-55cf-42fd-929c-a81379a197f0",
      "cell_type": "code",
      "source": "with open('frasi.txt','r') as f:\n    # completare qui",
      "metadata": {
        "trusted": true
      },
      "outputs": [],
      "execution_count": null
    },
    {
      "id": "a1d29b11-fa07-4a26-900b-fdcd9aa38409",
      "cell_type": "markdown",
      "source": "Le righe possono poi essere lette tutte insieme",
      "metadata": {}
    },
    {
      "id": "92eb234b-53aa-4923-8ac8-b502b1a5b4c2",
      "cell_type": "code",
      "source": "with open('frasi.txt','r') as f:\n    # completare qui",
      "metadata": {
        "trusted": true
      },
      "outputs": [],
      "execution_count": null
    },
    {
      "id": "3ef08969-5dd0-4a1c-9c62-2f8945754e81",
      "cell_type": "markdown",
      "source": "o individualmente",
      "metadata": {}
    },
    {
      "id": "718415d3-e12c-41a3-a634-f77ae835f45b",
      "cell_type": "code",
      "source": "with open('frasi.txt','r') as f:\n    finefile = False\n    while not finefile:\n        # completare qui",
      "metadata": {
        "trusted": true
      },
      "outputs": [],
      "execution_count": null
    },
    {
      "id": "5ff6d3e6-bbb4-40bc-919c-083b751f4919",
      "cell_type": "markdown",
      "source": "### JSON\n\nCome per i testi, può tornare utile salvare dei dizionari in un file conservando la struttura dei suoi attrubuti.\\\nProviamo a scrivere un dizionario direttamente in un file...",
      "metadata": {}
    },
    {
      "id": "76b5348e-86cd-4297-a5f8-016ee9089ce6",
      "cell_type": "code",
      "source": "studente = {'nome': 'Gio', 'eta': 20, 'voti': [27, 26]}\nprint(studente)\nwith open('studenti.txt','w') as f:\n    f.write(studente)",
      "metadata": {
        "trusted": true
      },
      "outputs": [],
      "execution_count": null
    },
    {
      "id": "b0939769-8137-45da-9003-f626a959c21d",
      "cell_type": "markdown",
      "source": "Non è andata bene...\n\nPer i dizionari, e gli **oggetti** in generale è stato introdotta una rappresentazione universale chiamata **JSON - JavaScript Object Notation**.\\\nIl formato **JSON** è un modo efficace per rappresentare strutture simili ai dizionari.\\\nNotate che il `print()` di Python utilizza proprio il JSON per stampare un dizionario. \nSe invece passiamo i bytes del dizionario a `write()`, questo non avviene e perciò dobbiamo noi tradurre il dizionario in un formato testuale.\n\nIl metodo `.dumps()` produce la rappresentazione in stringa JSON di un dizionario",
      "metadata": {}
    },
    {
      "id": "a90c6b2c-f13e-4586-a157-7635456cc5aa",
      "cell_type": "code",
      "source": "import json\nstudente = {'nome': 'Gio', 'eta': 20, 'voti': [27, 26]}\njson_studente = json.dumps(studente)\nprint(json_studente)\n#completare qui",
      "metadata": {
        "trusted": true
      },
      "outputs": [],
      "execution_count": null
    },
    {
      "id": "301871e1-92ba-42e8-9ac9-18a58e477316",
      "cell_type": "markdown",
      "source": "Il metodo `.loads()` invece fa l'operazione inversa",
      "metadata": {}
    },
    {
      "id": "a8b94cee-ec26-48ac-8ae4-60ff0fdd882e",
      "cell_type": "code",
      "source": "import json\nwith open('studenti.txt','r') as f:\n    json_studente = f.read()\n#completare qui",
      "metadata": {
        "trusted": true
      },
      "outputs": [],
      "execution_count": null
    }
  ]
}
{
  "metadata": {
    "kernelspec": {
      "name": "python",
      "display_name": "Python (Pyodide)",
      "language": "python"
    },
    "language_info": {
      "codemirror_mode": {
        "name": "python",
        "version": 3
      },
      "file_extension": ".py",
      "mimetype": "text/x-python",
      "name": "python",
      "nbconvert_exporter": "python",
      "pygments_lexer": "ipython3",
      "version": "3.8"
    }
  },
  "nbformat_minor": 4,
  "nbformat": 4,
  "cells": [
    {
      "cell_type": "markdown",
      "source": "# Attività di progetto 9\n## Grafici d'impatto visivo con Matplotlib\n\nQuando si deve preparare reportistica d'impatto, è importante la scelta delle infografiche perchè le immagini sono il primo messaggio che arriva al nostro interlocutore.\n\nPer questo motivo è fondamentale scegliere per i nostri dati la rappresentazione grafica più adatta ed espressiva.\\\nFortunatamente `matplotlib` ci torna molto utile in questo perché ha tantissimi strumenti per la costruzione dei grafici.\n\nVediamone alcuni che utilizzeremo per la nostra sfida.",
      "metadata": {}
    },
    {
      "cell_type": "markdown",
      "source": "## Grafico a torta\n\nIl **grafico a torta** mostra visivamente le  **proporzioni** reciproche di elementi che hanno in comune il fatto di **formare un totale** di qualche situazione o fenomeno.\\\nPerciò ciascun elemento contribuisce al totale secondo una proporzione, generalmente espressa in percentuale, che è molto più facile apprezzare visivamente.\n\nProviamo adesso a costruire un grafico a torta di esempio su due eventi che possono avvenire per i 365 giorni dell'anno.\\\nQuesti eventi li simuliamo con **2 numeri casuali** `a` e `b` tra 1 e 100 e definiamo un **limite**.\\\nPer ciascun giorno può avvenire solo uno di quattro possibilità:\n- caso **NESSUNO** : sia `a` che `b` sono sotto il limite\n- caso **A MAGGIORE**: `a` supera il limite `b` no\n- caso **B MAGGIORE**: `b` supera il limite `a` no\n- caso **ENTRAMBI**: `a` e `b` superano il limite\n\nCostruiamo quindi il grafico del conteggio dei quattro eventi, che ovviamente daranno 365 se sommati.",
      "metadata": {}
    },
    {
      "cell_type": "code",
      "source": "from matplotlib import pyplot as plt\nfrom random import randint\n\nconta_amag = 0\nconta_bmag = 0\nconta_entrambi = 0\nconta_nessuno = 0\nlimite = 30\n\n# COMPLETARE IL CODICE MANCANTE\n\nstazioni = ['Nessuno', 'A maggiore', 'B maggiore', 'Entrambi']\ncolori = ['green', 'orange', 'yellow', 'red']\n\nfig, ax = plt.subplots()\nfig.set_size_inches(10.0, 10.0)\nax.set_title('Grafico a torta')\nax.pie(valori, labels=stazioni, colors=colori, autopct='%1.1f%%')\nplt.show()",
      "metadata": {
        "trusted": true
      },
      "outputs": [],
      "execution_count": null
    },
    {
      "cell_type": "markdown",
      "source": "## Grafico a barre a più colori\n\nIl **grafico a barre** viene utilizzato per mostrare una sequenza di valori distribuiti su un intervallo di campioni.\\\nQuesto grafico può essere usato per mostrare **conteggi** e **misure** raccolte, per esempio, **durante un certo periodo di tempo**.\\\nAbbiamo anche visto, nel notebook di progetto n.8 (**Prog8.ipynb**) come sia anche possibile controllate il colore di ciascuna barra.\n\nCostruiamo un grafico a barre di esempio, che rappresenta un evento numerico per ciascun giorno del mese.\\\nAnche stavolta simuliamo l'evento con un numero casuale `val` rappresentato da un grafico di 31 barre.\\\nSe il valore supera il limite, la barra deve essere rossa, altrimenti deve essere verde",
      "metadata": {}
    },
    {
      "cell_type": "code",
      "source": "from matplotlib import pyplot as plt\nfrom random import randint\n\nvalori = []\ncolori = []\nlimite = 80\n\n# COMPLETARE IL CODICE MANCANTE\n            \nfig, ax = plt.subplots()\nfig.set_size_inches(14.0, 8.0)\nax.bar(giorni, valori, color=colori)\nax.set_title('Grafico a barre')\nax.set_xlabel('giorni')\nax.set_ylabel('valore')\nplt.show()",
      "metadata": {
        "trusted": true
      },
      "outputs": [],
      "execution_count": null
    },
    {
      "cell_type": "markdown",
      "source": "## Grafico cumulativo\n\nIl **grafico cumulativo** è un pò la fusione del Grafico a torta con il grafico a barre.\\\nEsso mostra per ciascuna suddivisione di un un asse comune, un certo numero di valori.\\\nI valori sono quanità **sommabili tra loro**, per cui ha senso rappresentare, oltre ai loro valori, anche la loro **somma**.\n\nPer far ciò i valori sono posizionati uno sopra l'altro, ovvero **impilati** uno sopra l'altro, in modo da formare tre aree sovrapposte che si sviluppano lungo l'asse X comune.\\\nPer questo motivo si chiama **stackplot**.\n\nFacciamo l'esempio di TRE eventi numerici che consideriamo sommabili tra loro, rilevate, anche stavolta, nei 31 giorni del mese.\\\nLe tre sequenze dovranno avere tutte la stessa lunghezza.",
      "metadata": {}
    },
    {
      "cell_type": "code",
      "source": "import matplotlib.pyplot as plt\ncolori = ['red', 'green', 'blue']\nprima = []\nseconda = []\nterza = []\ngiorni = range(1,31)\n\n# COMPLETARE IL CODICE MANCANTE\n\nfig, ax = plt.subplots()\nfig.set_size_inches(14.0, 8.0)\nax.stackplot(giorni, dati, labels=etichette, colors=colori, alpha=0.8)\nax.set_title('Grafico cumulativo')\nax.set_xlabel('Giorni')\nax.set_ylabel('Eventi')\nplt.show()",
      "metadata": {
        "trusted": true
      },
      "outputs": [],
      "execution_count": null
    },
    {
      "cell_type": "markdown",
      "source": "## Grafico tridimensionale\n\nI **grafici tridimensionali** sono utili quando si vogliono visualizzare in modo affiancato **più di una sequenza** di dati definiti però **su una dimensione comune**.\\\nQuesta situazione identifica 3 assi (3 dimensioni):\n- L'asse della **dimensione in comune** (asse X)\n- L'asse dei **valori** (asse Y)\n- L'asse di **posizionamento** dei grafici (asse Z)\n\nSono in realtà **più grafici a barre** sistemati su più file lungo una terza dimensione\n\nNell'esempio che vogliamo fare adesso, costruiamo 3 sequenze (\"PRIMA\", \"SECONDA\" e \"TERZA\") di valori casuali sempre definiti sui 31 giorni di un mese.\\\n- I giorni del mese li sistemiamo sull'asse X\n- I valori comuni sull'asse Z\n- ciascuna sequenza, sull'asse Y\n\nNotate che, in questi grafici, `PyPlot` sistema per default l'asse Z verso l'alto.\\\nPer avere l'asse dei valori Y sistemato verso l'alto, dobbiamo chiedere al grafico di *sdraiare* l'asse Z sulla direzione Y\n\nUtilizziamo anche la proprietà di trasparenza (canale `alpha`) per non nascodere completamente i grafici in seconda e terza linea",
      "metadata": {}
    },
    {
      "cell_type": "code",
      "source": "import matplotlib.pyplot as plt\nfrom random import randint\n\nyticks = [0, 1, 2]\nsequenze = ['PRIMA', 'SECONDA', 'TERZA']\nprima = []\nseconda = []\nterza = []\n\n# COMPLETARE IL CODICE MANCANTE\n\nax.bar(giorni, prima, zs=0, zdir='y', color='r', alpha=0.8)\nax.bar(giorni, seconda, zs=1, zdir='y', color='g', alpha=0.8)\nax.bar(giorni, terza, zs=2, zdir='y', color='b', alpha=0.8)\nax.set_xlabel('giorni')\nax.set_ylabel('sequenze')\nax.set_zlabel('valore')\nax.set_yticks(yticks, labels=sequenze)\nplt.show()",
      "metadata": {
        "trusted": true
      },
      "outputs": [],
      "execution_count": null
    },
    {
      "cell_type": "code",
      "source": "",
      "metadata": {
        "trusted": true
      },
      "outputs": [],
      "execution_count": null
    }
  ]
}
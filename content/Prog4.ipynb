{
  "metadata": {
    "kernelspec": {
      "name": "python",
      "display_name": "Python (Pyodide)",
      "language": "python"
    },
    "language_info": {
      "codemirror_mode": {
        "name": "python",
        "version": 3
      },
      "file_extension": ".py",
      "mimetype": "text/x-python",
      "name": "python",
      "nbconvert_exporter": "python",
      "pygments_lexer": "ipython3",
      "version": "3.8"
    }
  },
  "nbformat_minor": 4,
  "nbformat": 4,
  "cells": [
    {
      "cell_type": "markdown",
      "source": "# Attività di progetto 4",
      "metadata": {}
    },
    {
      "cell_type": "markdown",
      "source": "## Analisi iterativa",
      "metadata": {}
    },
    {
      "cell_type": "markdown",
      "source": "Nel **Day#3** abbiamo avuto a che fare con il file **ParcoFerrari-PM10.csv** che contiene le misure del particolato PM10  dal 7 marzo al 1° novembre di quest'anno.\n\n*(Riscaricare il file con l'ultima versione)*\n\nSe date un occhiata al file, vedete che la **QUINTA** colonna contiene i valori di concentrazione del particolato in PPM.\\\nSe pensate ad ogni riga del file come ad una **lista**, che indice avrà la quinta colonna?\n\nSempre nel Day#3 la sfida si focalizzava sul confrontare il valore del particolato **di una specifica riga del file** scelta da voi.\\\nQuesto perché, in quel momento, non avevamo la possibilità di confrontare tutte le righe del CSV: sarebbero state troppe!\n\nMa adesso questa possibilità ce l'abbiamo: abbiamo l'esecuzione ciclica con i cicli `for` e `while`. Mettiamola subito all'opera!\n\nRicordiamo che, se una riga del CSV è una **lista**, l'intero file CSV può essere pensato come una **Lista di liste**, una lista cioè che ha a sua volta liste come elementi.",
      "metadata": {}
    },
    {
      "cell_type": "markdown",
      "source": "## CONFRONTO ITERATIVO ",
      "metadata": {}
    },
    {
      "cell_type": "code",
      "source": "import csv\nwith open('ParcoFerrari-PM10.csv', 'r', newline='') as f:\n    reader = csv.reader(f, delimiter=',')\n    dati = list(reader)\n    # AGGIUNGI IL TUO CODICE DA QUI!\n",
      "metadata": {
        "trusted": true,
        "scrolled": true
      },
      "outputs": [],
      "execution_count": 1
    },
    {
      "cell_type": "markdown",
      "source": "Il programma di questa cella è incompleto:\\\nle righe di codice già inserite mettono l'intero file CSV nella variabile `dati`.\\\n`dati` è una lista composta a sua volta da tante liste quante sono le righe del file CSV.\\\nQuello che manca è un controllo di conformità su TUTTE le righe del file CSV\n\n### cosa possiamo fare ?\nNella cella **CONFRONTO ITERATIVO** aggiungiamo del codice in questo modo:\n\n1. Definiamo il valore limite di **40** PPM ed assegnamolo ad una variabile `valore_limite`\n2. Aggiungiamo un ciclo `for` che, per ogni riga:\n   - Verifica che non siamo nella riga 0 (coi nomi delle colonne):\\\n     Se il quinto campo NON è uguale alla parola \"value\" allora\n     - confronta il valore del particolato (quinto campo) con valore limite:\n       Se il particolato è maggiore del valore limite, scrive \"ATTENZIONE: \", la data e l'ora (quarto campo) e il valore trovato nel particolato\n   - Altrimenti non fa nulla.\n\nPrima di iniziare, ricordiamo alcune cose:\n- `csv.reader()` ritorna i dati del file CSV come **stringhe** per cui il confronto con il valore limite richiede una conversione...\n- Gli indici delle liste iniziano da 0, cioè il PRIMO elemento ha indice 0, il SECONDO 1 e cos' via.\n- nella `if` l' operatore di uguaglianza è **==**, di disuguaglianza è **!=**\n\n",
      "metadata": {}
    },
    {
      "cell_type": "code",
      "source": "",
      "metadata": {
        "trusted": true
      },
      "outputs": [],
      "execution_count": null
    }
  ]
}
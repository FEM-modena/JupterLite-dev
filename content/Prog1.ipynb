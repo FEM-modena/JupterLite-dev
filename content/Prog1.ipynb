{
  "metadata": {
    "kernelspec": {
      "name": "python",
      "display_name": "Python (Pyodide)",
      "language": "python"
    },
    "language_info": {
      "codemirror_mode": {
        "name": "python",
        "version": 3
      },
      "file_extension": ".py",
      "mimetype": "text/x-python",
      "name": "python",
      "nbconvert_exporter": "python",
      "pygments_lexer": "ipython3",
      "version": "3.8"
    }
  },
  "nbformat_minor": 4,
  "nbformat": 4,
  "cells": [
    {
      "cell_type": "markdown",
      "source": "# Attività di progetto 1 ",
      "metadata": {}
    },
    {
      "cell_type": "markdown",
      "source": "## Caricamento della base di dati",
      "metadata": {}
    },
    {
      "cell_type": "markdown",
      "source": "Iniziamo a costruire un archivio di informazioni su cui poi costruire eleborazioni, analisi e report operativi.\\\nGli archivi digitali su cui si eseguono elaborazioni prendono il nome di **basi di dati**\\\n\\\nUna base di dati puà avere qualsiasi struttura e formato: ad esempio un registro scolastico, un elenco di contatti, i dati del meteo...\\\nNella maggioranza dei casi i dati sono raccolti come gruppi di informazioni, come ad es: `[nome, cognome, età, città, data di nascita]`\\\nCiascun gruppo prende il nome di **record**\\\nQueste informazioni sono poi elencate una dopo l'altra a formare una **sequenza di record** che può essere rappresentata come **tabella** o come **file**\n\nCon le nostre liste possiamo creare sia record che tabelle! Qualcuno ha capito come?\n\n---",
      "metadata": {}
    },
    {
      "cell_type": "code",
      "source": "a = ['sofia', 'rossi', 34, 'Modena' , '10/4/1990']",
      "metadata": {
        "trusted": true
      },
      "outputs": [],
      "execution_count": 3
    },
    {
      "cell_type": "code",
      "source": "b = ['stefano', 'neri', 23 , 'Reggio Emilia' , '22/8/2001']",
      "metadata": {
        "trusted": true
      },
      "outputs": [],
      "execution_count": 4
    },
    {
      "cell_type": "code",
      "source": "data = [a, b]",
      "metadata": {
        "trusted": true
      },
      "outputs": [],
      "execution_count": 5
    },
    {
      "cell_type": "code",
      "source": "data",
      "metadata": {
        "trusted": true
      },
      "outputs": [
        {
          "execution_count": 6,
          "output_type": "execute_result",
          "data": {
            "text/plain": "[['mario', 'rossi', 33, 'Modena', '10/4/1990'],\n ['stefano', 'neri', 23, 'Reggio Emilia', '22/8/2001']]"
          },
          "metadata": {}
        }
      ],
      "execution_count": 6
    },
    {
      "cell_type": "markdown",
      "source": "## Creazione del file CSV",
      "metadata": {}
    },
    {
      "cell_type": "markdown",
      "source": "I file CSV sono file che contengono righe di testo.\\\nCiascuna riga contiene una *sequenza* di valori, ciascuno separato dal successivo da un separatore, che in molti casi è una virgola, ma potrebbe essere anche un punto-e-virgola, uno spazio etc...\\\nI file CSV sono un modo molto diffuso nell'informatica per memorizzare tabelle di record.\n\n### cosa possiamo fare?\n\n1. Prendiamo i dati delle stazioni di monitoraggio ARPA **della sola provincia di Modena** presenti nella tabella\n2. Definite un record-lista per ogni stazione, creando ed utilizzando celle di codice Python\n3. Create una *sequenza* di *record* e chiamatela `dati_ambiente`\n4. Utilizzando la cella Python **CARICAMENTO** create il file CSV che sarà la nostra base di dati",
      "metadata": {}
    },
    {
      "cell_type": "code",
      "source": "",
      "metadata": {
        "trusted": true
      },
      "outputs": [],
      "execution_count": null
    },
    {
      "cell_type": "code",
      "source": "",
      "metadata": {
        "trusted": true
      },
      "outputs": [],
      "execution_count": null
    },
    {
      "cell_type": "markdown",
      "source": "---",
      "metadata": {}
    },
    {
      "cell_type": "markdown",
      "source": "## CARICAMENTO",
      "metadata": {}
    },
    {
      "cell_type": "code",
      "source": "import csv",
      "metadata": {
        "trusted": true
      },
      "outputs": [],
      "execution_count": 3
    },
    {
      "cell_type": "code",
      "source": "with open('Modena.csv', 'w', newline='') as f:\n    writer = csv.writer(f)\n    writer.writerow([\"nome_stazione\", \"codice\", \"comune\", \"indirizzo\", \"altezza\", \"coord_x\", \"coord_y\"])\n    writer.writerows(dati_ambiente)",
      "metadata": {
        "trusted": true,
        "scrolled": true
      },
      "outputs": [],
      "execution_count": null
    }
  ]
}
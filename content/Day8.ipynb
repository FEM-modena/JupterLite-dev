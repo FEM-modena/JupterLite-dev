{
  "metadata": {
    "kernelspec": {
      "name": "python",
      "display_name": "Python (Pyodide)",
      "language": "python"
    },
    "language_info": {
      "codemirror_mode": {
        "name": "python",
        "version": 3
      },
      "file_extension": ".py",
      "mimetype": "text/x-python",
      "name": "python",
      "nbconvert_exporter": "python",
      "pygments_lexer": "ipython3",
      "version": "3.8"
    }
  },
  "nbformat_minor": 5,
  "nbformat": 4,
  "cells": [
    {
      "id": "2bc36778-6a55-4b26-94cc-54fce26c3de2",
      "cell_type": "markdown",
      "source": "# Day 8 - Dividiamoci i compiti",
      "metadata": {}
    },
    {
      "id": "b3e30f4c-1b4a-4c6b-b33a-54cbc68b588a",
      "cell_type": "markdown",
      "source": "## Definire nuove funzioni",
      "metadata": {}
    },
    {
      "id": "724e7008-9055-4d1f-82bd-5bef6c89d14f",
      "cell_type": "markdown",
      "source": "Quando si costruisce un programma, capita spesso che alcune sequenze di operazioni debbano essere eseguite deiverse volte su operandi diversi.\\\nPer esempio, se in più punti del programma è necessario ordinare i valori di una lista dal più piccolo al più grande, sarà necessario eseguire l'algoritmo di ordinamentod i una lista più volte per liste diverse.\n\nA questo scopo è stato introdotto il meccanismo delle **funzioni** che è disponibile, in varie forme, praticamente in tutti i linguaggi di programmazione.\\\nUna funzione **è un blocco** a cui è stato assegnato un nome ed una serie di variabili di collegamento chiamate **argomenti** o **parametri**.\n\nLa sintassi per definire una funzione è la seguente\n```\ndef nome_della_funzione( arg1, ... ):\n    blocco\n```\nSi possono avere anche funzioni senza argomenti, in tal caso la sintassi è\n\n```\ndef nome_della_funzione():\n    blocco\n```\n\nNella cella di codice qui sotto, provate a definire e ad utilizzare più volte una funzione che saluta il nome passato come parametro",
      "metadata": {}
    },
    {
      "id": "e37dd009-74eb-4a3f-9777-abbb4c36a76f",
      "cell_type": "code",
      "source": "",
      "metadata": {
        "trusted": true
      },
      "outputs": [],
      "execution_count": null
    },
    {
      "id": "eb424cfe-821c-4f53-bc4d-1bc29086d6b1",
      "cell_type": "markdown",
      "source": "Le funzioni possono anche produrre un valore come risultato della loro elaborazione e restituirlo nel punto del programma da cui è stata chiamata.\\\nIn questo caso, la funzioni può essere usata in una assegnazione o, comunque, in qualsiasi punto del codice che si aspetta un valore.\n\nNella cella di codice qui sotto, provate a definire una funzione che accetta due numeri come argomenti e ritorna come risultato il massimo tra i due, e fate stampare con `print()` il risultato",
      "metadata": {}
    },
    {
      "id": "16f40424-206d-43f6-a9a8-197af40ef3a6",
      "cell_type": "code",
      "source": "",
      "metadata": {
        "trusted": true
      },
      "outputs": [],
      "execution_count": null
    },
    {
      "id": "9724688c-6fc8-48c3-b56c-a6a8eb8fe3d1",
      "cell_type": "markdown",
      "source": "## Programma principale e Funzioni\n\nQuando si programma facendo uso delle funzioni, quello che otteniamo è un codice in cui è possibile distinguere:\n- Una sequenza di operazioni che viene eseguito dall'inizio alla fine e che costituisce la struttura principale del programma. Questa parte viene chiamata il **programma principale**\n- Diverse **funzioni** che realizzano operazioni specifiche e che vengono invocate dal programma principale.\n\nQuesta strutturazione è quella che troverete nei programmi Python più complessi e ben strutturati.",
      "metadata": {}
    },
    {
      "id": "89935a9c-9989-4c54-a77a-f72bdc927dd5",
      "cell_type": "markdown",
      "source": "## Tre circonferenze con raggio diverso\n\nNello scorso appuntamento abbiamo utilizzato questo codice per stampare una circonferenza con `pyplot`:",
      "metadata": {}
    },
    {
      "id": "ae3e2bc9-bd39-43bf-910f-ccca20ab4ff2",
      "cell_type": "code",
      "source": "from matplotlib import pyplot\nimport math\nfig, ax = pyplot.subplots()\nr = 6\npunti_x = []\npunti_y = []\nfor a in range(0, 360):\n    arad = math.radians(a)\n    x = r * math.cos(arad)\n    punti_x.append(x)\n    y = r * math.sin(arad)\n    punti_y.append(y)\nax.set(xlim=(-8,8), ylim=(-8,8), aspect='equal')\nax.plot(punti_x, punti_y)\npyplot.show()",
      "metadata": {
        "trusted": true,
        "scrolled": true
      },
      "outputs": [],
      "execution_count": null
    },
    {
      "id": "2da2864e-a851-4bcc-bfaf-e64aa21560da",
      "cell_type": "markdown",
      "source": "Adesso proviamo a stampare, nella stessa figura di pyplot, **tre circonferenze con 3 misure del raggio differenti**, ovviamente senza scrivere tre volte le stesse cose!\n\n### Come procediamo ?\nLa sfida è quella di trovare quale parte di codice è \"ripetitiva\" e di utilizzare quella come blocco di una funzione.\n\nPer prima cosa, scriviamo il pogramma in modo ripetitivo, cioè **senza** utilizzare le funzioni.\nUsiamo la cella qui sotto:",
      "metadata": {}
    },
    {
      "id": "41b74c6f-dda1-49ad-9632-08f3c19d03ec",
      "cell_type": "code",
      "source": "",
      "metadata": {
        "trusted": true
      },
      "outputs": [],
      "execution_count": null
    },
    {
      "id": "0da8b2f5-7767-487e-b393-c22f90c75842",
      "cell_type": "markdown",
      "source": "Il primo passo permette di identificare la parte ripetitiva del programma, che è destinata a diventare funzione.\\\nPossiamo anche analizzare le tre \"ripetizioni\" per capire quali valori/variabili fanno la differenza tra una esecuzione e l'altra.\n\nUna volta isolata la funzione, il prossimo passo è quello di individuare quali saranno i parametri da passare alla funzione come argomenti.\\\nUn modo è quello di dividere le variabili e/o i valori del programma in tre gruppi:\n- Quelli **non utilizzati** dalle operazioni effettuate **dalla funzione**\n- Quelli utilizzati **solo dalle operazioni** effettuate **della funzione**\n- Quelli che interessano **sia le operazioni della funzione** che quelle del **programma principale**\\\nI parametri saranno questi ultimi.\n\nScriviamo in questa cella il programma risultante:",
      "metadata": {}
    },
    {
      "id": "bf8588af-951b-48a3-b578-e7c1d1edde6f",
      "cell_type": "code",
      "source": "",
      "metadata": {
        "trusted": true
      },
      "outputs": [],
      "execution_count": null
    }
  ]
}
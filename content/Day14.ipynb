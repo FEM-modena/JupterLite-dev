{
  "metadata": {
    "kernelspec": {
      "name": "python",
      "display_name": "Python (Pyodide)",
      "language": "python"
    },
    "language_info": {
      "codemirror_mode": {
        "name": "python",
        "version": 3
      },
      "file_extension": ".py",
      "mimetype": "text/x-python",
      "name": "python",
      "nbconvert_exporter": "python",
      "pygments_lexer": "ipython3",
      "version": "3.8"
    }
  },
  "nbformat_minor": 4,
  "nbformat": 4,
  "cells": [
    {
      "cell_type": "markdown",
      "source": "# Recap di Pyplot\n\n`Matplotlib` è più di una libreria, la possiamo pensare come una **piattaforma** per la rappresentazione grafica dei dati.\n\nLa [pagina dei tutorial](https://matplotlib.org/stable/tutorials/index.html) e la [Quick Start Guide](https://matplotlib.org/stable/users/explain/quick_start.html) sono un buon modo per esplorare autonomamente le funzioni principali di PyPlot.\n\nFacciamo un breve recap di come si costruiscono i grafici di con Matplotlib.\n\nCominciamo con **importare il modulo** `pyplot` di `matplotlib` ed assegnarli un **alias** di comodo `plt`",
      "metadata": {}
    },
    {
      "cell_type": "code",
      "source": "from matplotlib import pyplot as plt",
      "metadata": {
        "trusted": true
      },
      "outputs": [],
      "execution_count": null
    },
    {
      "cell_type": "markdown",
      "source": "Supponiamo voler visualizzare le due **sinusoidi seno e coseno**.\nSicuramente dovremo anche importare il modulo `math`.",
      "metadata": {}
    },
    {
      "cell_type": "code",
      "source": "import math",
      "metadata": {
        "trusted": true
      },
      "outputs": [],
      "execution_count": 2
    },
    {
      "cell_type": "markdown",
      "source": "Con il modulo `math` costruiamo tre liste:\n- La lista degli angoli da 0 a 360\n- Le due liste dei valori di y",
      "metadata": {}
    },
    {
      "cell_type": "code",
      "source": "y1=[]\ny2=[]\nangoli = list(range(360))\nfor a in angoli:\n    arad = math.radians(a)\n    y1.append(math.cos(arad))\n    y2.append(math.sin(arad))",
      "metadata": {
        "trusted": true
      },
      "outputs": [],
      "execution_count": 3
    },
    {
      "cell_type": "markdown",
      "source": "I passi per mostrare i grafici sono:\n- **costruire la disposizione** dei grafici **come righe e colonne**: in questo caso, due grafici affiancati sulla stessa riga\n- fissare le **proprietà di ciascun grafico** (oggetti `ax` prodotti da `subplots()`): in questo caso, i limiti di x e dei valori y per ciascun grafico\n- richiamare i metodi plot per posizionare i punti",
      "metadata": {}
    },
    {
      "cell_type": "code",
      "source": "fig, (ax1, ax2) = plt.subplots(1,2)\nfig.set_size_inches(13,6)\nax1.set(xlim=(0,360), ylim=(-1.1,1.1))\nax2.set(xlim=(0,360), ylim=(-1.1,1.1))\nax1.plot(angoli, y1)\nax2.plot(angoli, y2)\nplt.show()",
      "metadata": {
        "trusted": true
      },
      "outputs": [],
      "execution_count": null
    },
    {
      "cell_type": "markdown",
      "source": "Questo è un uso davvero minimale di pyplot. Possiamo certamente fare qualcosa di più!",
      "metadata": {}
    },
    {
      "cell_type": "code",
      "source": "",
      "metadata": {
        "trusted": true
      },
      "outputs": [],
      "execution_count": null
    }
  ]
}